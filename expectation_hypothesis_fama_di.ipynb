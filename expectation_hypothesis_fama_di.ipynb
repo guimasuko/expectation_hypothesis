{
 "cells": [
  {
   "cell_type": "markdown",
   "metadata": {},
   "source": [
    "## Fama e Bliss (1987)"
   ]
  },
  {
   "cell_type": "markdown",
   "metadata": {},
   "source": [
    "Usando os dados do Futuro DI"
   ]
  },
  {
   "cell_type": "code",
   "execution_count": 1,
   "metadata": {},
   "outputs": [],
   "source": [
    "import math\n",
    "import numpy as np\n",
    "import pandas as pd\n",
    "import matplotlib.pyplot as plt\n",
    "import statsmodels.formula.api as sm"
   ]
  },
  {
   "cell_type": "code",
   "execution_count": 2,
   "metadata": {},
   "outputs": [],
   "source": [
    "# mostra o dataframe inteiro\n",
    "# pd.set_option('display.max_rows', None)"
   ]
  },
  {
   "cell_type": "markdown",
   "metadata": {},
   "source": [
    "Para a base de dados, usaremos o futuro DI que funciona como uma proxy para o retorno das Letra do Tesouro Nacional (LTN). Isso porque o futuro DI é medido através da expectativa da taxa de juros livre de risco da economia, caracaterizada pelo título LTN do governo que representa um ativo livre de risco."
   ]
  },
  {
   "cell_type": "markdown",
   "metadata": {},
   "source": [
    "Os dados do futuro DI estão em periodicidade mensal, e abrangem todo o período a partir de Junho de 2012 até Outubro de 2022. Os dados foram obtidos através da Reuters cujo acesso é liberado pelo departamento de Economia da PUC-Rio."
   ]
  },
  {
   "cell_type": "code",
   "execution_count": 3,
   "metadata": {},
   "outputs": [],
   "source": [
    "futurodi = pd.read_csv('futuroDI.csv', sep=',', index_col=0)"
   ]
  },
  {
   "cell_type": "code",
   "execution_count": 4,
   "metadata": {},
   "outputs": [
    {
     "data": {
      "text/html": [
       "<div>\n",
       "<style scoped>\n",
       "    .dataframe tbody tr th:only-of-type {\n",
       "        vertical-align: middle;\n",
       "    }\n",
       "\n",
       "    .dataframe tbody tr th {\n",
       "        vertical-align: top;\n",
       "    }\n",
       "\n",
       "    .dataframe thead th {\n",
       "        text-align: right;\n",
       "    }\n",
       "</style>\n",
       "<table border=\"1\" class=\"dataframe\">\n",
       "  <thead>\n",
       "    <tr style=\"text-align: right;\">\n",
       "      <th></th>\n",
       "      <th>BRPRE1M=BMF</th>\n",
       "      <th>BRPRE2M=BMF</th>\n",
       "      <th>BRPRE3M=BMF</th>\n",
       "      <th>BRPRE4M=BMF</th>\n",
       "      <th>BRPRE5M=BMF</th>\n",
       "      <th>BRPRE6M=BMF</th>\n",
       "      <th>BRPRE7M=BMF</th>\n",
       "      <th>BRPRE8M=BMF</th>\n",
       "      <th>BRPRE9M=BMF</th>\n",
       "      <th>BRPRE10M=BMF</th>\n",
       "      <th>...</th>\n",
       "      <th>BRPRE1Y=BMF</th>\n",
       "      <th>BRPRE2Y=BMF</th>\n",
       "      <th>BRPRE3Y=BMF</th>\n",
       "      <th>BRPRE4Y=BMF</th>\n",
       "      <th>BRPRE5Y=BMF</th>\n",
       "      <th>BRPRE6Y=BMF</th>\n",
       "      <th>BRPRE7Y=BMF</th>\n",
       "      <th>BRPRE8Y=BMF</th>\n",
       "      <th>BRPRE9Y=BMF</th>\n",
       "      <th>BRPRE10Y=BMF</th>\n",
       "    </tr>\n",
       "  </thead>\n",
       "  <tbody>\n",
       "    <tr>\n",
       "      <th>10/31/2022</th>\n",
       "      <td>13.659</td>\n",
       "      <td>13.670</td>\n",
       "      <td>13.688</td>\n",
       "      <td>13.6990</td>\n",
       "      <td>13.6990</td>\n",
       "      <td>13.672</td>\n",
       "      <td>13.6560</td>\n",
       "      <td>13.6050</td>\n",
       "      <td>13.4820</td>\n",
       "      <td>13.3880</td>\n",
       "      <td>...</td>\n",
       "      <td>13.130</td>\n",
       "      <td>11.807</td>\n",
       "      <td>11.482</td>\n",
       "      <td>11.495</td>\n",
       "      <td>11.537</td>\n",
       "      <td>11.6190</td>\n",
       "      <td>11.6760</td>\n",
       "      <td>11.7180</td>\n",
       "      <td>11.719</td>\n",
       "      <td>11.7480</td>\n",
       "    </tr>\n",
       "    <tr>\n",
       "      <th>9/30/2022</th>\n",
       "      <td>13.668</td>\n",
       "      <td>13.682</td>\n",
       "      <td>13.689</td>\n",
       "      <td>13.7620</td>\n",
       "      <td>13.6540</td>\n",
       "      <td>13.688</td>\n",
       "      <td>13.6780</td>\n",
       "      <td>13.6080</td>\n",
       "      <td>13.5580</td>\n",
       "      <td>13.4800</td>\n",
       "      <td>...</td>\n",
       "      <td>13.245</td>\n",
       "      <td>11.938</td>\n",
       "      <td>11.612</td>\n",
       "      <td>11.669</td>\n",
       "      <td>11.731</td>\n",
       "      <td>11.8440</td>\n",
       "      <td>11.9130</td>\n",
       "      <td>11.9490</td>\n",
       "      <td>11.941</td>\n",
       "      <td>11.9640</td>\n",
       "    </tr>\n",
       "    <tr>\n",
       "      <th>8/31/2022</th>\n",
       "      <td>13.673</td>\n",
       "      <td>13.708</td>\n",
       "      <td>13.743</td>\n",
       "      <td>13.7450</td>\n",
       "      <td>13.7540</td>\n",
       "      <td>13.760</td>\n",
       "      <td>13.7490</td>\n",
       "      <td>13.7740</td>\n",
       "      <td>13.7380</td>\n",
       "      <td>13.6730</td>\n",
       "      <td>...</td>\n",
       "      <td>13.526</td>\n",
       "      <td>12.375</td>\n",
       "      <td>11.913</td>\n",
       "      <td>11.898</td>\n",
       "      <td>11.869</td>\n",
       "      <td>11.9890</td>\n",
       "      <td>12.0220</td>\n",
       "      <td>12.0650</td>\n",
       "      <td>12.060</td>\n",
       "      <td>12.0990</td>\n",
       "    </tr>\n",
       "    <tr>\n",
       "      <th>7/31/2022</th>\n",
       "      <td>13.513</td>\n",
       "      <td>13.619</td>\n",
       "      <td>13.724</td>\n",
       "      <td>13.7960</td>\n",
       "      <td>13.8360</td>\n",
       "      <td>13.879</td>\n",
       "      <td>13.8940</td>\n",
       "      <td>13.9150</td>\n",
       "      <td>13.9150</td>\n",
       "      <td>13.9160</td>\n",
       "      <td>...</td>\n",
       "      <td>13.823</td>\n",
       "      <td>13.064</td>\n",
       "      <td>12.714</td>\n",
       "      <td>12.737</td>\n",
       "      <td>12.863</td>\n",
       "      <td>12.8190</td>\n",
       "      <td>12.9250</td>\n",
       "      <td>12.9520</td>\n",
       "      <td>12.959</td>\n",
       "      <td>12.9800</td>\n",
       "    </tr>\n",
       "    <tr>\n",
       "      <th>6/30/2022</th>\n",
       "      <td>13.144</td>\n",
       "      <td>13.330</td>\n",
       "      <td>13.479</td>\n",
       "      <td>13.5930</td>\n",
       "      <td>13.7010</td>\n",
       "      <td>13.782</td>\n",
       "      <td>13.8770</td>\n",
       "      <td>13.9000</td>\n",
       "      <td>13.9230</td>\n",
       "      <td>13.9630</td>\n",
       "      <td>...</td>\n",
       "      <td>13.923</td>\n",
       "      <td>13.231</td>\n",
       "      <td>12.781</td>\n",
       "      <td>12.699</td>\n",
       "      <td>12.912</td>\n",
       "      <td>12.8150</td>\n",
       "      <td>12.9580</td>\n",
       "      <td>12.9560</td>\n",
       "      <td>12.963</td>\n",
       "      <td>12.9480</td>\n",
       "    </tr>\n",
       "    <tr>\n",
       "      <th>...</th>\n",
       "      <td>...</td>\n",
       "      <td>...</td>\n",
       "      <td>...</td>\n",
       "      <td>...</td>\n",
       "      <td>...</td>\n",
       "      <td>...</td>\n",
       "      <td>...</td>\n",
       "      <td>...</td>\n",
       "      <td>...</td>\n",
       "      <td>...</td>\n",
       "      <td>...</td>\n",
       "      <td>...</td>\n",
       "      <td>...</td>\n",
       "      <td>...</td>\n",
       "      <td>...</td>\n",
       "      <td>...</td>\n",
       "      <td>...</td>\n",
       "      <td>...</td>\n",
       "      <td>...</td>\n",
       "      <td>...</td>\n",
       "      <td>...</td>\n",
       "    </tr>\n",
       "    <tr>\n",
       "      <th>10/31/2012</th>\n",
       "      <td>7.096</td>\n",
       "      <td>7.099</td>\n",
       "      <td>7.089</td>\n",
       "      <td>7.0720</td>\n",
       "      <td>7.1000</td>\n",
       "      <td>7.116</td>\n",
       "      <td>7.1130</td>\n",
       "      <td>7.1230</td>\n",
       "      <td>7.1530</td>\n",
       "      <td>7.1840</td>\n",
       "      <td>...</td>\n",
       "      <td>7.252</td>\n",
       "      <td>7.749</td>\n",
       "      <td>8.149</td>\n",
       "      <td>8.465</td>\n",
       "      <td>8.636</td>\n",
       "      <td>9.0402</td>\n",
       "      <td>9.1016</td>\n",
       "      <td>9.1458</td>\n",
       "      <td>NaN</td>\n",
       "      <td>9.2285</td>\n",
       "    </tr>\n",
       "    <tr>\n",
       "      <th>9/30/2012</th>\n",
       "      <td>7.293</td>\n",
       "      <td>7.272</td>\n",
       "      <td>7.257</td>\n",
       "      <td>7.2440</td>\n",
       "      <td>7.2470</td>\n",
       "      <td>7.259</td>\n",
       "      <td>7.9137</td>\n",
       "      <td>8.0644</td>\n",
       "      <td>8.2187</td>\n",
       "      <td>8.3416</td>\n",
       "      <td>...</td>\n",
       "      <td>7.466</td>\n",
       "      <td>8.152</td>\n",
       "      <td>8.596</td>\n",
       "      <td>8.939</td>\n",
       "      <td>9.165</td>\n",
       "      <td>9.6752</td>\n",
       "      <td>9.7612</td>\n",
       "      <td>9.8158</td>\n",
       "      <td>NaN</td>\n",
       "      <td>9.8961</td>\n",
       "    </tr>\n",
       "    <tr>\n",
       "      <th>8/31/2012</th>\n",
       "      <td>7.348</td>\n",
       "      <td>7.308</td>\n",
       "      <td>7.287</td>\n",
       "      <td>7.2650</td>\n",
       "      <td>7.2560</td>\n",
       "      <td>7.259</td>\n",
       "      <td>7.7958</td>\n",
       "      <td>8.0215</td>\n",
       "      <td>8.1829</td>\n",
       "      <td>8.3180</td>\n",
       "      <td>...</td>\n",
       "      <td>7.468</td>\n",
       "      <td>8.261</td>\n",
       "      <td>8.646</td>\n",
       "      <td>8.910</td>\n",
       "      <td>9.104</td>\n",
       "      <td>9.5986</td>\n",
       "      <td>9.5960</td>\n",
       "      <td>9.6878</td>\n",
       "      <td>NaN</td>\n",
       "      <td>9.7396</td>\n",
       "    </tr>\n",
       "    <tr>\n",
       "      <th>7/31/2012</th>\n",
       "      <td>7.806</td>\n",
       "      <td>7.648</td>\n",
       "      <td>7.511</td>\n",
       "      <td>7.4270</td>\n",
       "      <td>7.3770</td>\n",
       "      <td>7.348</td>\n",
       "      <td>7.8232</td>\n",
       "      <td>8.0065</td>\n",
       "      <td>8.1631</td>\n",
       "      <td>8.2856</td>\n",
       "      <td>...</td>\n",
       "      <td>7.431</td>\n",
       "      <td>8.178</td>\n",
       "      <td>8.595</td>\n",
       "      <td>8.926</td>\n",
       "      <td>9.133</td>\n",
       "      <td>9.5374</td>\n",
       "      <td>9.5833</td>\n",
       "      <td>9.6812</td>\n",
       "      <td>NaN</td>\n",
       "      <td>9.8353</td>\n",
       "    </tr>\n",
       "    <tr>\n",
       "      <th>6/30/2012</th>\n",
       "      <td>8.089</td>\n",
       "      <td>7.979</td>\n",
       "      <td>7.831</td>\n",
       "      <td>7.5624</td>\n",
       "      <td>7.5664</td>\n",
       "      <td>7.638</td>\n",
       "      <td>7.8737</td>\n",
       "      <td>8.0244</td>\n",
       "      <td>8.1654</td>\n",
       "      <td>8.3421</td>\n",
       "      <td>...</td>\n",
       "      <td>7.580</td>\n",
       "      <td>8.162</td>\n",
       "      <td>8.746</td>\n",
       "      <td>9.162</td>\n",
       "      <td>9.462</td>\n",
       "      <td>9.9549</td>\n",
       "      <td>10.0125</td>\n",
       "      <td>10.1379</td>\n",
       "      <td>NaN</td>\n",
       "      <td>10.2706</td>\n",
       "    </tr>\n",
       "  </tbody>\n",
       "</table>\n",
       "<p>125 rows × 21 columns</p>\n",
       "</div>"
      ],
      "text/plain": [
       "            BRPRE1M=BMF  BRPRE2M=BMF  BRPRE3M=BMF  BRPRE4M=BMF  BRPRE5M=BMF  \\\n",
       "10/31/2022       13.659       13.670       13.688      13.6990      13.6990   \n",
       "9/30/2022        13.668       13.682       13.689      13.7620      13.6540   \n",
       "8/31/2022        13.673       13.708       13.743      13.7450      13.7540   \n",
       "7/31/2022        13.513       13.619       13.724      13.7960      13.8360   \n",
       "6/30/2022        13.144       13.330       13.479      13.5930      13.7010   \n",
       "...                 ...          ...          ...          ...          ...   \n",
       "10/31/2012        7.096        7.099        7.089       7.0720       7.1000   \n",
       "9/30/2012         7.293        7.272        7.257       7.2440       7.2470   \n",
       "8/31/2012         7.348        7.308        7.287       7.2650       7.2560   \n",
       "7/31/2012         7.806        7.648        7.511       7.4270       7.3770   \n",
       "6/30/2012         8.089        7.979        7.831       7.5624       7.5664   \n",
       "\n",
       "            BRPRE6M=BMF  BRPRE7M=BMF  BRPRE8M=BMF  BRPRE9M=BMF  BRPRE10M=BMF  \\\n",
       "10/31/2022       13.672      13.6560      13.6050      13.4820       13.3880   \n",
       "9/30/2022        13.688      13.6780      13.6080      13.5580       13.4800   \n",
       "8/31/2022        13.760      13.7490      13.7740      13.7380       13.6730   \n",
       "7/31/2022        13.879      13.8940      13.9150      13.9150       13.9160   \n",
       "6/30/2022        13.782      13.8770      13.9000      13.9230       13.9630   \n",
       "...                 ...          ...          ...          ...           ...   \n",
       "10/31/2012        7.116       7.1130       7.1230       7.1530        7.1840   \n",
       "9/30/2012         7.259       7.9137       8.0644       8.2187        8.3416   \n",
       "8/31/2012         7.259       7.7958       8.0215       8.1829        8.3180   \n",
       "7/31/2012         7.348       7.8232       8.0065       8.1631        8.2856   \n",
       "6/30/2012         7.638       7.8737       8.0244       8.1654        8.3421   \n",
       "\n",
       "            ...  BRPRE1Y=BMF  BRPRE2Y=BMF  BRPRE3Y=BMF  BRPRE4Y=BMF  \\\n",
       "10/31/2022  ...       13.130       11.807       11.482       11.495   \n",
       "9/30/2022   ...       13.245       11.938       11.612       11.669   \n",
       "8/31/2022   ...       13.526       12.375       11.913       11.898   \n",
       "7/31/2022   ...       13.823       13.064       12.714       12.737   \n",
       "6/30/2022   ...       13.923       13.231       12.781       12.699   \n",
       "...         ...          ...          ...          ...          ...   \n",
       "10/31/2012  ...        7.252        7.749        8.149        8.465   \n",
       "9/30/2012   ...        7.466        8.152        8.596        8.939   \n",
       "8/31/2012   ...        7.468        8.261        8.646        8.910   \n",
       "7/31/2012   ...        7.431        8.178        8.595        8.926   \n",
       "6/30/2012   ...        7.580        8.162        8.746        9.162   \n",
       "\n",
       "            BRPRE5Y=BMF  BRPRE6Y=BMF  BRPRE7Y=BMF  BRPRE8Y=BMF  BRPRE9Y=BMF  \\\n",
       "10/31/2022       11.537      11.6190      11.6760      11.7180       11.719   \n",
       "9/30/2022        11.731      11.8440      11.9130      11.9490       11.941   \n",
       "8/31/2022        11.869      11.9890      12.0220      12.0650       12.060   \n",
       "7/31/2022        12.863      12.8190      12.9250      12.9520       12.959   \n",
       "6/30/2022        12.912      12.8150      12.9580      12.9560       12.963   \n",
       "...                 ...          ...          ...          ...          ...   \n",
       "10/31/2012        8.636       9.0402       9.1016       9.1458          NaN   \n",
       "9/30/2012         9.165       9.6752       9.7612       9.8158          NaN   \n",
       "8/31/2012         9.104       9.5986       9.5960       9.6878          NaN   \n",
       "7/31/2012         9.133       9.5374       9.5833       9.6812          NaN   \n",
       "6/30/2012         9.462       9.9549      10.0125      10.1379          NaN   \n",
       "\n",
       "            BRPRE10Y=BMF  \n",
       "10/31/2022       11.7480  \n",
       "9/30/2022        11.9640  \n",
       "8/31/2022        12.0990  \n",
       "7/31/2022        12.9800  \n",
       "6/30/2022        12.9480  \n",
       "...                  ...  \n",
       "10/31/2012        9.2285  \n",
       "9/30/2012         9.8961  \n",
       "8/31/2012         9.7396  \n",
       "7/31/2012         9.8353  \n",
       "6/30/2012        10.2706  \n",
       "\n",
       "[125 rows x 21 columns]"
      ]
     },
     "execution_count": 4,
     "metadata": {},
     "output_type": "execute_result"
    }
   ],
   "source": [
    "futurodi"
   ]
  },
  {
   "cell_type": "code",
   "execution_count": 5,
   "metadata": {},
   "outputs": [],
   "source": [
    "# função que torna o índice um objeto de data\n",
    "futurodi.index = pd.to_datetime(futurodi.index)"
   ]
  },
  {
   "cell_type": "code",
   "execution_count": 6,
   "metadata": {},
   "outputs": [],
   "source": [
    "# normalizando os dados que estavam em taxas para números decimais\n",
    "futurodi = futurodi/100"
   ]
  },
  {
   "cell_type": "code",
   "execution_count": 7,
   "metadata": {},
   "outputs": [],
   "source": [
    "# algumas colunas não foram utilizadas e, por isso são retiradas desde o início para despoluir a visualização do DataFrame.\n",
    "futurodi = futurodi.drop(['BRPRE1M=BMF', 'BRPRE2M=BMF', 'BRPRE3M=BMF', 'BRPRE4M=BMF', 'BRPRE5M=BMF', 'BRPRE6M=BMF', 'BRPRE7M=BMF', 'BRPRE8M=BMF', 'BRPRE9M=BMF', 'BRPRE10M=BMF', 'BRPRE11M=BMF', 'BRPRE6Y=BMF', 'BRPRE7Y=BMF', 'BRPRE8Y=BMF', 'BRPRE9Y=BMF', 'BRPRE10Y=BMF'], axis=1)"
   ]
  },
  {
   "cell_type": "code",
   "execution_count": 8,
   "metadata": {},
   "outputs": [
    {
     "data": {
      "text/html": [
       "<div>\n",
       "<style scoped>\n",
       "    .dataframe tbody tr th:only-of-type {\n",
       "        vertical-align: middle;\n",
       "    }\n",
       "\n",
       "    .dataframe tbody tr th {\n",
       "        vertical-align: top;\n",
       "    }\n",
       "\n",
       "    .dataframe thead th {\n",
       "        text-align: right;\n",
       "    }\n",
       "</style>\n",
       "<table border=\"1\" class=\"dataframe\">\n",
       "  <thead>\n",
       "    <tr style=\"text-align: right;\">\n",
       "      <th></th>\n",
       "      <th>BRPRE1Y=BMF</th>\n",
       "      <th>BRPRE2Y=BMF</th>\n",
       "      <th>BRPRE3Y=BMF</th>\n",
       "      <th>BRPRE4Y=BMF</th>\n",
       "      <th>BRPRE5Y=BMF</th>\n",
       "    </tr>\n",
       "  </thead>\n",
       "  <tbody>\n",
       "    <tr>\n",
       "      <th>2022-10-31</th>\n",
       "      <td>0.13130</td>\n",
       "      <td>0.11807</td>\n",
       "      <td>0.11482</td>\n",
       "      <td>0.11495</td>\n",
       "      <td>0.11537</td>\n",
       "    </tr>\n",
       "    <tr>\n",
       "      <th>2022-09-30</th>\n",
       "      <td>0.13245</td>\n",
       "      <td>0.11938</td>\n",
       "      <td>0.11612</td>\n",
       "      <td>0.11669</td>\n",
       "      <td>0.11731</td>\n",
       "    </tr>\n",
       "    <tr>\n",
       "      <th>2022-08-31</th>\n",
       "      <td>0.13526</td>\n",
       "      <td>0.12375</td>\n",
       "      <td>0.11913</td>\n",
       "      <td>0.11898</td>\n",
       "      <td>0.11869</td>\n",
       "    </tr>\n",
       "    <tr>\n",
       "      <th>2022-07-31</th>\n",
       "      <td>0.13823</td>\n",
       "      <td>0.13064</td>\n",
       "      <td>0.12714</td>\n",
       "      <td>0.12737</td>\n",
       "      <td>0.12863</td>\n",
       "    </tr>\n",
       "    <tr>\n",
       "      <th>2022-06-30</th>\n",
       "      <td>0.13923</td>\n",
       "      <td>0.13231</td>\n",
       "      <td>0.12781</td>\n",
       "      <td>0.12699</td>\n",
       "      <td>0.12912</td>\n",
       "    </tr>\n",
       "    <tr>\n",
       "      <th>...</th>\n",
       "      <td>...</td>\n",
       "      <td>...</td>\n",
       "      <td>...</td>\n",
       "      <td>...</td>\n",
       "      <td>...</td>\n",
       "    </tr>\n",
       "    <tr>\n",
       "      <th>2012-10-31</th>\n",
       "      <td>0.07252</td>\n",
       "      <td>0.07749</td>\n",
       "      <td>0.08149</td>\n",
       "      <td>0.08465</td>\n",
       "      <td>0.08636</td>\n",
       "    </tr>\n",
       "    <tr>\n",
       "      <th>2012-09-30</th>\n",
       "      <td>0.07466</td>\n",
       "      <td>0.08152</td>\n",
       "      <td>0.08596</td>\n",
       "      <td>0.08939</td>\n",
       "      <td>0.09165</td>\n",
       "    </tr>\n",
       "    <tr>\n",
       "      <th>2012-08-31</th>\n",
       "      <td>0.07468</td>\n",
       "      <td>0.08261</td>\n",
       "      <td>0.08646</td>\n",
       "      <td>0.08910</td>\n",
       "      <td>0.09104</td>\n",
       "    </tr>\n",
       "    <tr>\n",
       "      <th>2012-07-31</th>\n",
       "      <td>0.07431</td>\n",
       "      <td>0.08178</td>\n",
       "      <td>0.08595</td>\n",
       "      <td>0.08926</td>\n",
       "      <td>0.09133</td>\n",
       "    </tr>\n",
       "    <tr>\n",
       "      <th>2012-06-30</th>\n",
       "      <td>0.07580</td>\n",
       "      <td>0.08162</td>\n",
       "      <td>0.08746</td>\n",
       "      <td>0.09162</td>\n",
       "      <td>0.09462</td>\n",
       "    </tr>\n",
       "  </tbody>\n",
       "</table>\n",
       "<p>125 rows × 5 columns</p>\n",
       "</div>"
      ],
      "text/plain": [
       "            BRPRE1Y=BMF  BRPRE2Y=BMF  BRPRE3Y=BMF  BRPRE4Y=BMF  BRPRE5Y=BMF\n",
       "2022-10-31      0.13130      0.11807      0.11482      0.11495      0.11537\n",
       "2022-09-30      0.13245      0.11938      0.11612      0.11669      0.11731\n",
       "2022-08-31      0.13526      0.12375      0.11913      0.11898      0.11869\n",
       "2022-07-31      0.13823      0.13064      0.12714      0.12737      0.12863\n",
       "2022-06-30      0.13923      0.13231      0.12781      0.12699      0.12912\n",
       "...                 ...          ...          ...          ...          ...\n",
       "2012-10-31      0.07252      0.07749      0.08149      0.08465      0.08636\n",
       "2012-09-30      0.07466      0.08152      0.08596      0.08939      0.09165\n",
       "2012-08-31      0.07468      0.08261      0.08646      0.08910      0.09104\n",
       "2012-07-31      0.07431      0.08178      0.08595      0.08926      0.09133\n",
       "2012-06-30      0.07580      0.08162      0.08746      0.09162      0.09462\n",
       "\n",
       "[125 rows x 5 columns]"
      ]
     },
     "execution_count": 8,
     "metadata": {},
     "output_type": "execute_result"
    }
   ],
   "source": [
    "futurodi"
   ]
  },
  {
   "cell_type": "markdown",
   "metadata": {},
   "source": [
    "Uma breve explicação do que se trata cada coluna. Vale notar primeiro que cada coluna tem o mesmo padrão alterando apenas o número no sexto caracter. De maneira genérica, como o futuro DI é uma proxy do retorno da LTN, temos que a interpretação de $BRPRExY=BMF$ é uma proxy do retorno anualizado de uma LTN com vencimento em $t+x$ comprada em $t$.\n",
    "\n",
    "Por exemplo, $BRPRE3Y=BMF$ é uma proxy do retorno anualizado de uma LTN com vencimento $t+3$ comprada em $t$."
   ]
  },
  {
   "cell_type": "markdown",
   "metadata": {},
   "source": [
    "Agora precisamos criar algumas taxas de retorno. No artigo Fama e Bliss (1987), definem o rendimento de um título que paga \\$1 em $t+x$ comprado em $t$ como \n",
    "\n",
    "$$\n",
    "r(x:t) = \\ln\\left[\\frac{p(x:t+x)}{p(x:t)}\\right]\n",
    "$$\n",
    "\n",
    "Como $p(x:t+x) = 1$\n",
    "\n",
    "$$\n",
    "r(x:t) = -\\ln[{p(x:t)}]\n",
    "$$\n"
   ]
  },
  {
   "cell_type": "markdown",
   "metadata": {},
   "source": [
    "Para o caso brasileiro, utilizando o futuro DI como proxy, temos que $r(x:t)$ é o retorno de uma LTN comprada em $t$ que paga R\\$ 1 em $t+x$. Portanto\n",
    "\n",
    "$$\n",
    "r(x:t) = (1+BRPRExY=BMF)^x - 1\n",
    "$$"
   ]
  },
  {
   "cell_type": "code",
   "execution_count": 9,
   "metadata": {},
   "outputs": [],
   "source": [
    "futurodi['r(1:t)'] = futurodi['BRPRE1Y=BMF']\n",
    "futurodi['r(2:t)'] = ((1+futurodi['BRPRE2Y=BMF'])**2) - 1\n",
    "futurodi['r(3:t)'] = ((1+futurodi['BRPRE3Y=BMF'])**3) - 1 \n",
    "futurodi['r(4:t)'] = ((1+futurodi['BRPRE4Y=BMF'])**4) - 1 \n",
    "futurodi['r(5:t)'] = ((1+futurodi['BRPRE5Y=BMF'])**5) - 1"
   ]
  },
  {
   "cell_type": "markdown",
   "metadata": {},
   "source": [
    "Uma outra taxa que será necessária é $r(x:t+1)$, interpretada como o retorno de uma LTN comprada em $t+1$ que paga R\\$1 em $t+x+1$. A equação que nos entrega essa taxa é dada por\n",
    "\n",
    "$$\n",
    "r(x:t+1) = \\frac{(1+BRPRE(x+1)Y=BMF)^{x+1}}{(1+BRPRExY=BMF)} - 1\n",
    "$$"
   ]
  },
  {
   "cell_type": "code",
   "execution_count": 10,
   "metadata": {},
   "outputs": [],
   "source": [
    "futurodi['r(1:t+1)'] = (((1+futurodi['BRPRE2Y=BMF'])**2)/(1+futurodi['BRPRE1Y=BMF'])) -1\n",
    "futurodi['r(2:t+1)'] = (((1+futurodi['BRPRE3Y=BMF'])**3)/(1+futurodi['BRPRE1Y=BMF'])) -1\n",
    "futurodi['r(3:t+1)'] = (((1+futurodi['BRPRE4Y=BMF'])**4)/(1+futurodi['BRPRE1Y=BMF'])) -1\n",
    "futurodi['r(4:t+1)'] = (((1+futurodi['BRPRE5Y=BMF'])**5)/(1+futurodi['BRPRE1Y=BMF'])) -1"
   ]
  },
  {
   "cell_type": "markdown",
   "metadata": {},
   "source": [
    "A última taxa necessária para a construção das variáveis é $r(1:t+x)$ que representa o retorno da LTN comprada em $t+x$ que paga R\\$1 em $t+x+1$ obtida através de\n",
    "\n",
    "$$\n",
    "r(1:t+x) = \\frac{(1+BRPRE(x+1)Y=BMF)^{x+1}}{(1+BRPRE(x)Y=BMF)^x} -1\n",
    "$$"
   ]
  },
  {
   "cell_type": "code",
   "execution_count": 11,
   "metadata": {},
   "outputs": [],
   "source": [
    "futurodi['r(1:t+2)'] = (((1+futurodi['BRPRE3Y=BMF'])**3)/((1+futurodi['BRPRE2Y=BMF'])**2)) - 1\n",
    "futurodi['r(1:t+3)'] = (((1+futurodi['BRPRE4Y=BMF'])**4)/((1+futurodi['BRPRE3Y=BMF'])**3)) - 1\n",
    "futurodi['r(1:t+4)'] = (((1+futurodi['BRPRE5Y=BMF'])**5)/((1+futurodi['BRPRE4Y=BMF'])**4)) - 1"
   ]
  },
  {
   "cell_type": "markdown",
   "metadata": {},
   "source": [
    "A taxa forward é definida como\n",
    "\n",
    "$$\n",
    "f(x,x-1:t) = r(x:t) - r(x-1:t)\n",
    "$$\n",
    "\n",
    "Enquanto a taxa de retorno no caso brasileiro, da LTN comprada em $t$ e vendida em $t+1$ que pagaria R\\$1 em $t+x-1$ é dada por\n",
    "\n",
    "$$\n",
    "h(x,x-1:t+1) = \\ln[p(x-1:t+1)] - \\ln[p(x:t)] = r(x:t) - r(x-1:t+1)\n",
    "$$"
   ]
  },
  {
   "cell_type": "markdown",
   "metadata": {},
   "source": [
    "onde Fama e Bliss (1987) utilizaram $x \\in \\{2,3,4,5\\}$"
   ]
  },
  {
   "cell_type": "code",
   "execution_count": 12,
   "metadata": {},
   "outputs": [],
   "source": [
    "futurodi['f(2,1:t)'] = futurodi['r(2:t)'] - futurodi['r(1:t)']\n",
    "futurodi['f(3,2:t)'] = futurodi['r(3:t)'] - futurodi['r(2:t)']\n",
    "futurodi['f(4,3:t)'] = futurodi['r(4:t)'] - futurodi['r(3:t)']\n",
    "futurodi['f(5,4:t)'] = futurodi['r(5:t)'] - futurodi['r(4:t)']\n",
    "\n",
    "futurodi['h(2,1:t+1)'] = futurodi['r(2:t)'] - futurodi['r(1:t+1)']\n",
    "futurodi['h(3,2:t+1)'] = futurodi['r(3:t)'] - futurodi['r(2:t+1)']\n",
    "futurodi['h(4,3:t+1)'] = futurodi['r(4:t)'] - futurodi['r(3:t+1)']\n",
    "futurodi['h(5,4:t+1)'] = futurodi['r(5:t)'] - futurodi['r(4:t+1)']"
   ]
  },
  {
   "cell_type": "markdown",
   "metadata": {},
   "source": [
    "A regressão da Tabela 1 é dada por\n",
    "\n",
    "$$\n",
    "h(x,x-1:t+1) - r(1:t) = \\alpha + \\beta \\left[f(x,x-1:t) - r(1:t)\\right] + u_2(t+1)\n",
    "$$"
   ]
  },
  {
   "cell_type": "markdown",
   "metadata": {},
   "source": [
    "onde o regressor é $f(x,x-1:t) - r(1:t)$ e o regressando $h(x,x-1:t+1) - r(1:t)$"
   ]
  },
  {
   "cell_type": "code",
   "execution_count": 13,
   "metadata": {},
   "outputs": [],
   "source": [
    "futurodi['y'] = futurodi['h(2,1:t+1)'] - futurodi['r(1:t)']\n",
    "futurodi['x'] = futurodi['f(2,1:t)'] - futurodi['r(1:t)']\n",
    "result = sm.ols(formula=\"y ~ x\", data=futurodi).fit()"
   ]
  },
  {
   "cell_type": "markdown",
   "metadata": {},
   "source": [
    "Para $x=2$, a regressão é\n",
    "\n",
    "\n",
    "$$\n",
    "h(2,1:t+1) - r(1:t) = \\alpha + \\beta \\left[f(2,1:t) - r(1:t)\\right] + u_2(t+1)\n",
    "$$"
   ]
  },
  {
   "cell_type": "code",
   "execution_count": 14,
   "metadata": {},
   "outputs": [
    {
     "name": "stdout",
     "output_type": "stream",
     "text": [
      "                            OLS Regression Results                            \n",
      "==============================================================================\n",
      "Dep. Variable:                      y   R-squared:                       0.041\n",
      "Model:                            OLS   Adj. R-squared:                  0.033\n",
      "Method:                 Least Squares   F-statistic:                     5.194\n",
      "Date:                Fri, 21 Oct 2022   Prob (F-statistic):             0.0244\n",
      "Time:                        19:42:01   Log-Likelihood:                 463.51\n",
      "No. Observations:                 125   AIC:                            -923.0\n",
      "Df Residuals:                     123   BIC:                            -917.4\n",
      "Df Model:                           1                                         \n",
      "Covariance Type:            nonrobust                                         \n",
      "==============================================================================\n",
      "                 coef    std err          t      P>|t|      [0.025      0.975]\n",
      "------------------------------------------------------------------------------\n",
      "Intercept      0.0120      0.001     11.969      0.000       0.010       0.014\n",
      "x             -0.1030      0.045     -2.279      0.024      -0.193      -0.014\n",
      "==============================================================================\n",
      "Omnibus:                       17.284   Durbin-Watson:                   0.086\n",
      "Prob(Omnibus):                  0.000   Jarque-Bera (JB):               19.935\n",
      "Skew:                           0.871   Prob(JB):                     4.69e-05\n",
      "Kurtosis:                       3.891   Cond. No.                         84.5\n",
      "==============================================================================\n",
      "\n",
      "Notes:\n",
      "[1] Standard Errors assume that the covariance matrix of the errors is correctly specified.\n"
     ]
    }
   ],
   "source": [
    "print(result.summary())"
   ]
  },
  {
   "cell_type": "code",
   "execution_count": 15,
   "metadata": {},
   "outputs": [],
   "source": [
    "futurodi['y'] = futurodi['h(3,2:t+1)'] - futurodi['r(1:t)']\n",
    "futurodi['x'] = futurodi['f(3,2:t)'] - futurodi['r(1:t)']\n",
    "result = sm.ols(formula=\"y ~ x\", data=futurodi).fit()"
   ]
  },
  {
   "cell_type": "markdown",
   "metadata": {},
   "source": [
    "Para $x=3$, a regressão é\n",
    "\n",
    "\n",
    "$$\n",
    "h(3,2:t+1) - r(1:t) = \\alpha + \\beta \\left[f(3,2:t) - r(1:t)\\right] + u_2(t+1)\n",
    "$$"
   ]
  },
  {
   "cell_type": "code",
   "execution_count": 16,
   "metadata": {},
   "outputs": [
    {
     "name": "stdout",
     "output_type": "stream",
     "text": [
      "                            OLS Regression Results                            \n",
      "==============================================================================\n",
      "Dep. Variable:                      y   R-squared:                       0.011\n",
      "Model:                            OLS   Adj. R-squared:                  0.003\n",
      "Method:                 Least Squares   F-statistic:                     1.388\n",
      "Date:                Fri, 21 Oct 2022   Prob (F-statistic):              0.241\n",
      "Time:                        19:42:02   Log-Likelihood:                 368.50\n",
      "No. Observations:                 125   AIC:                            -733.0\n",
      "Df Residuals:                     123   BIC:                            -727.3\n",
      "Df Model:                           1                                         \n",
      "Covariance Type:            nonrobust                                         \n",
      "==============================================================================\n",
      "                 coef    std err          t      P>|t|      [0.025      0.975]\n",
      "------------------------------------------------------------------------------\n",
      "Intercept      0.0248      0.003      8.880      0.000       0.019       0.030\n",
      "x             -0.0777      0.066     -1.178      0.241      -0.208       0.053\n",
      "==============================================================================\n",
      "Omnibus:                       14.415   Durbin-Watson:                   0.066\n",
      "Prob(Omnibus):                  0.001   Jarque-Bera (JB):               15.669\n",
      "Skew:                           0.799   Prob(JB):                     0.000396\n",
      "Kurtosis:                       3.674   Cond. No.                         57.8\n",
      "==============================================================================\n",
      "\n",
      "Notes:\n",
      "[1] Standard Errors assume that the covariance matrix of the errors is correctly specified.\n"
     ]
    }
   ],
   "source": [
    "print(result.summary())"
   ]
  },
  {
   "cell_type": "code",
   "execution_count": 17,
   "metadata": {},
   "outputs": [],
   "source": [
    "futurodi['y'] = futurodi['h(4,3:t+1)'] - futurodi['r(1:t)']\n",
    "futurodi['x'] = futurodi['f(4,3:t)'] - futurodi['r(1:t)']\n",
    "result = sm.ols(formula=\"y ~ x\", data=futurodi).fit()"
   ]
  },
  {
   "cell_type": "markdown",
   "metadata": {},
   "source": [
    "Para $x=4$, a regressão é\n",
    "\n",
    "\n",
    "$$\n",
    "h(4,3:t+1) - r(1:t) = \\alpha + \\beta \\left[f(4,3:t) - r(1:t)\\right] + u_2(t+1)\n",
    "$$"
   ]
  },
  {
   "cell_type": "code",
   "execution_count": 18,
   "metadata": {},
   "outputs": [
    {
     "name": "stdout",
     "output_type": "stream",
     "text": [
      "                            OLS Regression Results                            \n",
      "==============================================================================\n",
      "Dep. Variable:                      y   R-squared:                       0.013\n",
      "Model:                            OLS   Adj. R-squared:                  0.005\n",
      "Method:                 Least Squares   F-statistic:                     1.601\n",
      "Date:                Fri, 21 Oct 2022   Prob (F-statistic):              0.208\n",
      "Time:                        19:42:02   Log-Likelihood:                 310.14\n",
      "No. Observations:                 125   AIC:                            -616.3\n",
      "Df Residuals:                     123   BIC:                            -610.6\n",
      "Df Model:                           1                                         \n",
      "Covariance Type:            nonrobust                                         \n",
      "==============================================================================\n",
      "                 coef    std err          t      P>|t|      [0.025      0.975]\n",
      "------------------------------------------------------------------------------\n",
      "Intercept      0.0282      0.006      4.878      0.000       0.017       0.040\n",
      "x              0.1212      0.096      1.265      0.208      -0.068       0.311\n",
      "==============================================================================\n",
      "Omnibus:                        5.779   Durbin-Watson:                   0.038\n",
      "Prob(Omnibus):                  0.056   Jarque-Bera (JB):                5.380\n",
      "Skew:                           0.444   Prob(JB):                       0.0679\n",
      "Kurtosis:                       2.506   Cond. No.                         52.7\n",
      "==============================================================================\n",
      "\n",
      "Notes:\n",
      "[1] Standard Errors assume that the covariance matrix of the errors is correctly specified.\n"
     ]
    }
   ],
   "source": [
    "print(result.summary())"
   ]
  },
  {
   "cell_type": "code",
   "execution_count": 19,
   "metadata": {},
   "outputs": [],
   "source": [
    "futurodi['y'] = futurodi['h(5,4:t+1)'] - futurodi['r(1:t)']\n",
    "futurodi['x'] = futurodi['f(5,4:t)'] - futurodi['r(1:t)']\n",
    "result = sm.ols(formula=\"y ~ x\", data=futurodi).fit()"
   ]
  },
  {
   "cell_type": "markdown",
   "metadata": {},
   "source": [
    "Para $x=5$, a regressão é\n",
    "\n",
    "\n",
    "$$\n",
    "h(5,4:t+1) - r(1:t) = \\alpha + \\beta \\left[f(5,4:t) - r(1:t)\\right] + u_2(t+1)\n",
    "$$"
   ]
  },
  {
   "cell_type": "code",
   "execution_count": 20,
   "metadata": {},
   "outputs": [
    {
     "name": "stdout",
     "output_type": "stream",
     "text": [
      "                            OLS Regression Results                            \n",
      "==============================================================================\n",
      "Dep. Variable:                      y   R-squared:                       0.131\n",
      "Model:                            OLS   Adj. R-squared:                  0.124\n",
      "Method:                 Least Squares   F-statistic:                     18.53\n",
      "Date:                Fri, 21 Oct 2022   Prob (F-statistic):           3.38e-05\n",
      "Time:                        19:42:03   Log-Likelihood:                 273.67\n",
      "No. Observations:                 125   AIC:                            -543.3\n",
      "Df Residuals:                     123   BIC:                            -537.7\n",
      "Df Model:                           1                                         \n",
      "Covariance Type:            nonrobust                                         \n",
      "==============================================================================\n",
      "                 coef    std err          t      P>|t|      [0.025      0.975]\n",
      "------------------------------------------------------------------------------\n",
      "Intercept      0.0155      0.008      1.846      0.067      -0.001       0.032\n",
      "x              0.4612      0.107      4.305      0.000       0.249       0.673\n",
      "==============================================================================\n",
      "Omnibus:                       35.639   Durbin-Watson:                   0.035\n",
      "Prob(Omnibus):                  0.000   Jarque-Bera (JB):                7.279\n",
      "Skew:                           0.157   Prob(JB):                       0.0263\n",
      "Kurtosis:                       1.860   Cond. No.                         44.1\n",
      "==============================================================================\n",
      "\n",
      "Notes:\n",
      "[1] Standard Errors assume that the covariance matrix of the errors is correctly specified.\n"
     ]
    }
   ],
   "source": [
    "print(result.summary())"
   ]
  },
  {
   "cell_type": "markdown",
   "metadata": {},
   "source": [
    "Para replicar o primeiro modelo da Tabela 3, basta alterar a variável $h(x,x-1:t+1)$ por $r(1:t+x-1)$, isso é\n",
    "\n",
    "$$\n",
    "r(1:t+x-1) - r(1:t) = \\alpha + \\beta \\left[f(x,x-1:t) - r(1:t)\\right] + u_2(t+1)\n",
    "$$"
   ]
  },
  {
   "cell_type": "markdown",
   "metadata": {},
   "source": [
    "onde novamente, $x \\in \\{2,3,4,5\\}$"
   ]
  },
  {
   "cell_type": "code",
   "execution_count": 21,
   "metadata": {},
   "outputs": [],
   "source": [
    "futurodi['y'] = futurodi['r(1:t+1)'] - futurodi['r(1:t)']\n",
    "futurodi['x'] = futurodi['f(2,1:t)'] - futurodi['r(1:t)']\n",
    "result = sm.ols(formula=\"y ~ x\", data=futurodi).fit()"
   ]
  },
  {
   "cell_type": "markdown",
   "metadata": {},
   "source": [
    "Para $x=2$, a regressão é\n",
    "\n",
    "\n",
    "$$\n",
    "r(1:t+1) - r(1:t) = \\alpha + \\beta \\left[f(2,1:t) - r(1:t)\\right] + u_2(t+1)\n",
    "$$"
   ]
  },
  {
   "cell_type": "code",
   "execution_count": 22,
   "metadata": {},
   "outputs": [
    {
     "name": "stdout",
     "output_type": "stream",
     "text": [
      "                            OLS Regression Results                            \n",
      "==============================================================================\n",
      "Dep. Variable:                      y   R-squared:                       0.829\n",
      "Model:                            OLS   Adj. R-squared:                  0.827\n",
      "Method:                 Least Squares   F-statistic:                     595.4\n",
      "Date:                Fri, 21 Oct 2022   Prob (F-statistic):           5.74e-49\n",
      "Time:                        19:42:03   Log-Likelihood:                 463.51\n",
      "No. Observations:                 125   AIC:                            -923.0\n",
      "Df Residuals:                     123   BIC:                            -917.4\n",
      "Df Model:                           1                                         \n",
      "Covariance Type:            nonrobust                                         \n",
      "==============================================================================\n",
      "                 coef    std err          t      P>|t|      [0.025      0.975]\n",
      "------------------------------------------------------------------------------\n",
      "Intercept     -0.0120      0.001    -11.969      0.000      -0.014      -0.010\n",
      "x              1.1030      0.045     24.401      0.000       1.014       1.193\n",
      "==============================================================================\n",
      "Omnibus:                       17.284   Durbin-Watson:                   0.086\n",
      "Prob(Omnibus):                  0.000   Jarque-Bera (JB):               19.935\n",
      "Skew:                          -0.871   Prob(JB):                     4.69e-05\n",
      "Kurtosis:                       3.891   Cond. No.                         84.5\n",
      "==============================================================================\n",
      "\n",
      "Notes:\n",
      "[1] Standard Errors assume that the covariance matrix of the errors is correctly specified.\n"
     ]
    }
   ],
   "source": [
    "print(result.summary())"
   ]
  },
  {
   "cell_type": "code",
   "execution_count": 23,
   "metadata": {},
   "outputs": [],
   "source": [
    "futurodi['y'] = futurodi['r(1:t+2)'] - futurodi['r(1:t)']\n",
    "futurodi['x'] = futurodi['f(3,2:t)'] - futurodi['r(1:t)']\n",
    "result = sm.ols(formula=\"y ~ x\", data=futurodi).fit()"
   ]
  },
  {
   "cell_type": "markdown",
   "metadata": {},
   "source": [
    "Para $x=3$, a regressão é\n",
    "\n",
    "\n",
    "$$\n",
    "r(1:t+2) - r(1:t) = \\alpha + \\beta \\left[f(3,2:t) - r(1:t)\\right] + u_2(t+1)\n",
    "$$"
   ]
  },
  {
   "cell_type": "code",
   "execution_count": 24,
   "metadata": {},
   "outputs": [
    {
     "name": "stdout",
     "output_type": "stream",
     "text": [
      "                            OLS Regression Results                            \n",
      "==============================================================================\n",
      "Dep. Variable:                      y   R-squared:                       0.666\n",
      "Model:                            OLS   Adj. R-squared:                  0.663\n",
      "Method:                 Least Squares   F-statistic:                     245.1\n",
      "Date:                Fri, 21 Oct 2022   Prob (F-statistic):           4.64e-31\n",
      "Time:                        19:42:03   Log-Likelihood:                 375.52\n",
      "No. Observations:                 125   AIC:                            -747.0\n",
      "Df Residuals:                     123   BIC:                            -741.4\n",
      "Df Model:                           1                                         \n",
      "Covariance Type:            nonrobust                                         \n",
      "==============================================================================\n",
      "                 coef    std err          t      P>|t|      [0.025      0.975]\n",
      "------------------------------------------------------------------------------\n",
      "Intercept     -0.0221      0.003     -8.385      0.000      -0.027      -0.017\n",
      "x              0.9767      0.062     15.655      0.000       0.853       1.100\n",
      "==============================================================================\n",
      "Omnibus:                       12.292   Durbin-Watson:                   0.065\n",
      "Prob(Omnibus):                  0.002   Jarque-Bera (JB):               12.851\n",
      "Skew:                          -0.725   Prob(JB):                      0.00162\n",
      "Kurtosis:                       3.606   Cond. No.                         57.8\n",
      "==============================================================================\n",
      "\n",
      "Notes:\n",
      "[1] Standard Errors assume that the covariance matrix of the errors is correctly specified.\n"
     ]
    }
   ],
   "source": [
    "print(result.summary())"
   ]
  },
  {
   "cell_type": "code",
   "execution_count": 25,
   "metadata": {},
   "outputs": [],
   "source": [
    "futurodi['y'] = futurodi['r(1:t+3)'] - futurodi['r(1:t)']\n",
    "futurodi['x'] = futurodi['f(4,3:t)'] - futurodi['r(1:t)']\n",
    "result = sm.ols(formula=\"y ~ x\", data=futurodi).fit()"
   ]
  },
  {
   "cell_type": "markdown",
   "metadata": {},
   "source": [
    "Para $x=4$, a regressão é\n",
    "\n",
    "\n",
    "$$\n",
    "r(1:t+3) - r(1:t) = \\alpha + \\beta \\left[f(4,3:t) - r(1:t)\\right] + u_2(t+1)\n",
    "$$"
   ]
  },
  {
   "cell_type": "code",
   "execution_count": 26,
   "metadata": {},
   "outputs": [
    {
     "name": "stdout",
     "output_type": "stream",
     "text": [
      "                            OLS Regression Results                            \n",
      "==============================================================================\n",
      "Dep. Variable:                      y   R-squared:                       0.373\n",
      "Model:                            OLS   Adj. R-squared:                  0.368\n",
      "Method:                 Least Squares   F-statistic:                     73.07\n",
      "Date:                Fri, 21 Oct 2022   Prob (F-statistic):           4.08e-14\n",
      "Time:                        19:42:04   Log-Likelihood:                 328.28\n",
      "No. Observations:                 125   AIC:                            -652.6\n",
      "Df Residuals:                     123   BIC:                            -646.9\n",
      "Df Model:                           1                                         \n",
      "Covariance Type:            nonrobust                                         \n",
      "==============================================================================\n",
      "                 coef    std err          t      P>|t|      [0.025      0.975]\n",
      "------------------------------------------------------------------------------\n",
      "Intercept     -0.0218      0.005     -4.368      0.000      -0.032      -0.012\n",
      "x              0.7083      0.083      8.548      0.000       0.544       0.872\n",
      "==============================================================================\n",
      "Omnibus:                        4.269   Durbin-Watson:                   0.037\n",
      "Prob(Omnibus):                  0.118   Jarque-Bera (JB):                3.532\n",
      "Skew:                          -0.307   Prob(JB):                        0.171\n",
      "Kurtosis:                       2.452   Cond. No.                         52.7\n",
      "==============================================================================\n",
      "\n",
      "Notes:\n",
      "[1] Standard Errors assume that the covariance matrix of the errors is correctly specified.\n"
     ]
    }
   ],
   "source": [
    "print(result.summary())"
   ]
  },
  {
   "cell_type": "code",
   "execution_count": 27,
   "metadata": {},
   "outputs": [],
   "source": [
    "futurodi['y'] = futurodi['r(1:t+4)'] - futurodi['r(1:t)']\n",
    "futurodi['x'] = futurodi['f(5,4:t)'] - futurodi['r(1:t)']\n",
    "result = sm.ols(formula=\"y ~ x\", data=futurodi).fit()"
   ]
  },
  {
   "cell_type": "markdown",
   "metadata": {},
   "source": [
    "Para $x=5$, a regressão é\n",
    "\n",
    "\n",
    "$$\n",
    "r(1:t+4) - r(1:t) = \\alpha + \\beta \\left[f(5,4:t) - r(1:t)\\right] + u_2(t+1)\n",
    "$$"
   ]
  },
  {
   "cell_type": "code",
   "execution_count": 28,
   "metadata": {},
   "outputs": [
    {
     "name": "stdout",
     "output_type": "stream",
     "text": [
      "                            OLS Regression Results                            \n",
      "==============================================================================\n",
      "Dep. Variable:                      y   R-squared:                       0.138\n",
      "Model:                            OLS   Adj. R-squared:                  0.131\n",
      "Method:                 Least Squares   F-statistic:                     19.67\n",
      "Date:                Fri, 21 Oct 2022   Prob (F-statistic):           2.01e-05\n",
      "Time:                        19:42:04   Log-Likelihood:                 304.58\n",
      "No. Observations:                 125   AIC:                            -605.2\n",
      "Df Residuals:                     123   BIC:                            -599.5\n",
      "Df Model:                           1                                         \n",
      "Covariance Type:            nonrobust                                         \n",
      "==============================================================================\n",
      "                 coef    std err          t      P>|t|      [0.025      0.975]\n",
      "------------------------------------------------------------------------------\n",
      "Intercept     -0.0086      0.007     -1.313      0.191      -0.022       0.004\n",
      "x              0.3711      0.084      4.436      0.000       0.205       0.537\n",
      "==============================================================================\n",
      "Omnibus:                       26.325   Durbin-Watson:                   0.033\n",
      "Prob(Omnibus):                  0.000   Jarque-Bera (JB):                6.042\n",
      "Skew:                           0.004   Prob(JB):                       0.0487\n",
      "Kurtosis:                       1.923   Cond. No.                         44.1\n",
      "==============================================================================\n",
      "\n",
      "Notes:\n",
      "[1] Standard Errors assume that the covariance matrix of the errors is correctly specified.\n"
     ]
    }
   ],
   "source": [
    "print(result.summary())"
   ]
  }
 ],
 "metadata": {
  "kernelspec": {
   "display_name": "Python 3.10.2 64-bit",
   "language": "python",
   "name": "python3"
  },
  "language_info": {
   "codemirror_mode": {
    "name": "ipython",
    "version": 3
   },
   "file_extension": ".py",
   "mimetype": "text/x-python",
   "name": "python",
   "nbconvert_exporter": "python",
   "pygments_lexer": "ipython3",
   "version": "3.10.2"
  },
  "orig_nbformat": 4,
  "vscode": {
   "interpreter": {
    "hash": "c63d8c7d738c2960218a10995aedf0a7f67a49a231e71037adf0440953cdb45b"
   }
  }
 },
 "nbformat": 4,
 "nbformat_minor": 2
}
