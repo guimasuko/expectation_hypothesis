{
 "cells": [
  {
   "cell_type": "markdown",
   "metadata": {},
   "source": [
    "## Campbell e Schiller (1991)"
   ]
  },
  {
   "cell_type": "markdown",
   "metadata": {},
   "source": [
    "Usando dados das LTNs"
   ]
  },
  {
   "cell_type": "code",
   "execution_count": 1,
   "metadata": {},
   "outputs": [],
   "source": [
    "import math\n",
    "import numpy as np\n",
    "import pandas as pd\n",
    "import matplotlib.pyplot as plt\n",
    "import statsmodels.formula.api as sm"
   ]
  },
  {
   "cell_type": "code",
   "execution_count": 2,
   "metadata": {},
   "outputs": [],
   "source": [
    "# mostra o dataframe inteiro\n",
    "# pd.set_option('display.max_rows', None)"
   ]
  },
  {
   "cell_type": "markdown",
   "metadata": {},
   "source": [
    "Para o caso brasileiro, a base de dados que será usada são os preços da Letra do Tesouro Nacional (LTN), cujo pagamento de R\\$ 1000 é feito após $t$ períodos. As LTNs farão o papel dos títulos americanos."
   ]
  },
  {
   "cell_type": "markdown",
   "metadata": {},
   "source": [
    "Os dados das LTNs estão em periodicidade mensal (último dia do mês), e abrangem todo o período a partir de Junho de 2012 até Outubro de 2022. Essa base de dados também foi obtida via Reuters com acesso concedido pelo departamento de Economia da PUC-Rio."
   ]
  },
  {
   "cell_type": "code",
   "execution_count": 3,
   "metadata": {},
   "outputs": [],
   "source": [
    "# lendo base de dados dos preços das LTNs\n",
    "ltn_precos = pd.read_csv('ltn_precos.csv', sep=',', index_col=0)"
   ]
  },
  {
   "cell_type": "code",
   "execution_count": 4,
   "metadata": {},
   "outputs": [],
   "source": [
    "# função que transforma a coluna de datas em datas de fato\n",
    "ltn_precos.index = pd.to_datetime(ltn_precos.index)"
   ]
  },
  {
   "cell_type": "code",
   "execution_count": 5,
   "metadata": {},
   "outputs": [],
   "source": [
    "# dropando colunas que não serão usadas\n",
    "ltn_precos = ltn_precos.drop(['BR6MT=RR', 'Unnamed: 5', 'Unnamed: 6'], axis=1)"
   ]
  },
  {
   "cell_type": "code",
   "execution_count": 6,
   "metadata": {},
   "outputs": [],
   "source": [
    "# dropando valores NaNs\n",
    "ltn_precos = ltn_precos.loc[ltn_precos.index.dropna()]"
   ]
  },
  {
   "cell_type": "code",
   "execution_count": 7,
   "metadata": {},
   "outputs": [],
   "source": [
    "# normalizando preços das LTNs para pagamento de R$1\n",
    "ltn_precos = ltn_precos/1000"
   ]
  },
  {
   "cell_type": "code",
   "execution_count": 8,
   "metadata": {},
   "outputs": [
    {
     "data": {
      "text/html": [
       "<div>\n",
       "<style scoped>\n",
       "    .dataframe tbody tr th:only-of-type {\n",
       "        vertical-align: middle;\n",
       "    }\n",
       "\n",
       "    .dataframe tbody tr th {\n",
       "        vertical-align: top;\n",
       "    }\n",
       "\n",
       "    .dataframe thead th {\n",
       "        text-align: right;\n",
       "    }\n",
       "</style>\n",
       "<table border=\"1\" class=\"dataframe\">\n",
       "  <thead>\n",
       "    <tr style=\"text-align: right;\">\n",
       "      <th></th>\n",
       "      <th>BR1YT=RR</th>\n",
       "      <th>BR2YT=RR</th>\n",
       "      <th>BR3YT=RR</th>\n",
       "    </tr>\n",
       "  </thead>\n",
       "  <tbody>\n",
       "    <tr>\n",
       "      <th>2022-10-31</th>\n",
       "      <td>0.888250</td>\n",
       "      <td>0.829531</td>\n",
       "      <td>0.996378</td>\n",
       "    </tr>\n",
       "    <tr>\n",
       "      <th>2022-09-30</th>\n",
       "      <td>0.908698</td>\n",
       "      <td>0.826359</td>\n",
       "      <td>0.991628</td>\n",
       "    </tr>\n",
       "    <tr>\n",
       "      <th>2022-08-31</th>\n",
       "      <td>0.898608</td>\n",
       "      <td>0.815204</td>\n",
       "      <td>0.976025</td>\n",
       "    </tr>\n",
       "    <tr>\n",
       "      <th>2022-07-31</th>\n",
       "      <td>0.887308</td>\n",
       "      <td>0.800305</td>\n",
       "      <td>0.952697</td>\n",
       "    </tr>\n",
       "    <tr>\n",
       "      <th>2022-06-30</th>\n",
       "      <td>0.878349</td>\n",
       "      <td>0.792686</td>\n",
       "      <td>0.990984</td>\n",
       "    </tr>\n",
       "    <tr>\n",
       "      <th>...</th>\n",
       "      <td>...</td>\n",
       "      <td>...</td>\n",
       "      <td>...</td>\n",
       "    </tr>\n",
       "    <tr>\n",
       "      <th>2012-10-31</th>\n",
       "      <td>0.938520</td>\n",
       "      <td>0.850100</td>\n",
       "      <td>1.083364</td>\n",
       "    </tr>\n",
       "    <tr>\n",
       "      <th>2012-09-30</th>\n",
       "      <td>0.930100</td>\n",
       "      <td>0.873745</td>\n",
       "      <td>1.058065</td>\n",
       "    </tr>\n",
       "    <tr>\n",
       "      <th>2012-08-31</th>\n",
       "      <td>0.924305</td>\n",
       "      <td>0.866180</td>\n",
       "      <td>1.048780</td>\n",
       "    </tr>\n",
       "    <tr>\n",
       "      <th>2012-07-31</th>\n",
       "      <td>0.937410</td>\n",
       "      <td>0.860395</td>\n",
       "      <td>1.042515</td>\n",
       "    </tr>\n",
       "    <tr>\n",
       "      <th>2012-06-30</th>\n",
       "      <td>0.930095</td>\n",
       "      <td>0.853875</td>\n",
       "      <td>1.032100</td>\n",
       "    </tr>\n",
       "  </tbody>\n",
       "</table>\n",
       "<p>125 rows × 3 columns</p>\n",
       "</div>"
      ],
      "text/plain": [
       "            BR1YT=RR  BR2YT=RR  BR3YT=RR\n",
       "2022-10-31  0.888250  0.829531  0.996378\n",
       "2022-09-30  0.908698  0.826359  0.991628\n",
       "2022-08-31  0.898608  0.815204  0.976025\n",
       "2022-07-31  0.887308  0.800305  0.952697\n",
       "2022-06-30  0.878349  0.792686  0.990984\n",
       "...              ...       ...       ...\n",
       "2012-10-31  0.938520  0.850100  1.083364\n",
       "2012-09-30  0.930100  0.873745  1.058065\n",
       "2012-08-31  0.924305  0.866180  1.048780\n",
       "2012-07-31  0.937410  0.860395  1.042515\n",
       "2012-06-30  0.930095  0.853875  1.032100\n",
       "\n",
       "[125 rows x 3 columns]"
      ]
     },
     "execution_count": 8,
     "metadata": {},
     "output_type": "execute_result"
    }
   ],
   "source": [
    "# base de dados pronta!\n",
    "ltn_precos"
   ]
  },
  {
   "cell_type": "markdown",
   "metadata": {},
   "source": [
    "Temos que $BRnYT=RR$ é o preço da LTN em $t$ que paga R\\$1 em $t+n$. Portando podemos usar a seguinte notação\n",
    "\n",
    "$$\n",
    "B_t^{(n)} = B_t^{t\\rightarrow t+n} = BRnYT=RR\n",
    "$$"
   ]
  },
  {
   "cell_type": "code",
   "execution_count": 10,
   "metadata": {},
   "outputs": [],
   "source": [
    "# renomeando as colunas de acordo\n",
    "ltn_precos = ltn_precos.rename(columns={'BR1YT=RR':'B_t(1)', 'BR2YT=RR':'B_t(2)', 'BR3YT=RR':'B_t(3)'})"
   ]
  },
  {
   "cell_type": "markdown",
   "metadata": {},
   "source": [
    "Logo o retorno anualizado da LTN da obtido será\n",
    "\n",
    "$$\n",
    "(1+r_t^{(n)})^n = \\frac{B_{t+n}^{(0)}}{B_t^{(n)}}\n",
    "$$\n",
    "\n",
    "Como $B_{t+n}^{(0)}$ é o preço da LTN comprada em $t+n$ que entrega R\\$1 em $t+n$, seu valor deve ser 1. Portanto\n",
    "\n",
    "$$\n",
    "r_t^{(n)} = \\left(\\frac{1}{B_t^{(n)}}\\right)^{(\\frac{1}{n})} -1\n",
    "$$"
   ]
  },
  {
   "cell_type": "code",
   "execution_count": 11,
   "metadata": {},
   "outputs": [],
   "source": [
    "ltn_precos['r_t(1)'] = (1/ltn_precos['B_t(1)']) - 1\n",
    "ltn_precos['r_t(2)'] = (1/ltn_precos['B_t(2)'])**(1/2) - 1\n",
    "ltn_precos['r_t(3)'] = (1/ltn_precos['B_t(3)'])**(1/3) - 1"
   ]
  },
  {
   "cell_type": "markdown",
   "metadata": {},
   "source": [
    "Definindo $P_t^{(n)} = \\ln[B_t^{(n)}]$ e $y_t^{(n)} = \\ln[1+r_t^{(n)}]$"
   ]
  },
  {
   "cell_type": "code",
   "execution_count": 12,
   "metadata": {},
   "outputs": [],
   "source": [
    "ltn_precos['P_t(1)'] = np.log(ltn_precos['B_t(1)'])\n",
    "ltn_precos['P_t(2)'] = np.log(ltn_precos['B_t(2)'])\n",
    "ltn_precos['P_t(3)'] = np.log(ltn_precos['B_t(3)'])"
   ]
  },
  {
   "cell_type": "code",
   "execution_count": 13,
   "metadata": {},
   "outputs": [],
   "source": [
    "ltn_precos['y_t(1)'] = np.log(1+ltn_precos['r_t(1)'])\n",
    "ltn_precos['y_t(2)'] = np.log(1+ltn_precos['r_t(2)'])\n",
    "ltn_precos['y_t(3)'] = np.log(1+ltn_precos['r_t(3)'])"
   ]
  },
  {
   "cell_type": "markdown",
   "metadata": {},
   "source": [
    "Temos que \n",
    "\n",
    "$$\n",
    "y_t^{(n)} = -\\frac{P_t^{(n)}}{n}\n",
    "$$"
   ]
  },
  {
   "cell_type": "code",
   "execution_count": 14,
   "metadata": {},
   "outputs": [
    {
     "data": {
      "text/html": [
       "<div>\n",
       "<style scoped>\n",
       "    .dataframe tbody tr th:only-of-type {\n",
       "        vertical-align: middle;\n",
       "    }\n",
       "\n",
       "    .dataframe tbody tr th {\n",
       "        vertical-align: top;\n",
       "    }\n",
       "\n",
       "    .dataframe thead th {\n",
       "        text-align: right;\n",
       "    }\n",
       "</style>\n",
       "<table border=\"1\" class=\"dataframe\">\n",
       "  <thead>\n",
       "    <tr style=\"text-align: right;\">\n",
       "      <th></th>\n",
       "      <th>B_t(1)</th>\n",
       "      <th>B_t(2)</th>\n",
       "      <th>B_t(3)</th>\n",
       "      <th>r_t(1)</th>\n",
       "      <th>r_t(2)</th>\n",
       "      <th>r_t(3)</th>\n",
       "      <th>P_t(1)</th>\n",
       "      <th>P_t(2)</th>\n",
       "      <th>P_t(3)</th>\n",
       "      <th>y_t(1)</th>\n",
       "      <th>y_t(2)</th>\n",
       "      <th>y_t(3)</th>\n",
       "    </tr>\n",
       "  </thead>\n",
       "  <tbody>\n",
       "    <tr>\n",
       "      <th>2022-10-31</th>\n",
       "      <td>0.888250</td>\n",
       "      <td>0.829531</td>\n",
       "      <td>0.996378</td>\n",
       "      <td>0.125809</td>\n",
       "      <td>0.097953</td>\n",
       "      <td>0.001210</td>\n",
       "      <td>-0.118502</td>\n",
       "      <td>-0.186895</td>\n",
       "      <td>-0.003629</td>\n",
       "      <td>0.118502</td>\n",
       "      <td>0.093447</td>\n",
       "      <td>0.001210</td>\n",
       "    </tr>\n",
       "    <tr>\n",
       "      <th>2022-09-30</th>\n",
       "      <td>0.908698</td>\n",
       "      <td>0.826359</td>\n",
       "      <td>0.991628</td>\n",
       "      <td>0.100476</td>\n",
       "      <td>0.100058</td>\n",
       "      <td>0.002806</td>\n",
       "      <td>-0.095742</td>\n",
       "      <td>-0.190726</td>\n",
       "      <td>-0.008407</td>\n",
       "      <td>0.095742</td>\n",
       "      <td>0.095363</td>\n",
       "      <td>0.002802</td>\n",
       "    </tr>\n",
       "    <tr>\n",
       "      <th>2022-08-31</th>\n",
       "      <td>0.898608</td>\n",
       "      <td>0.815204</td>\n",
       "      <td>0.976025</td>\n",
       "      <td>0.112832</td>\n",
       "      <td>0.107559</td>\n",
       "      <td>0.008122</td>\n",
       "      <td>-0.106908</td>\n",
       "      <td>-0.204317</td>\n",
       "      <td>-0.024267</td>\n",
       "      <td>0.106908</td>\n",
       "      <td>0.102158</td>\n",
       "      <td>0.008089</td>\n",
       "    </tr>\n",
       "    <tr>\n",
       "      <th>2022-07-31</th>\n",
       "      <td>0.887308</td>\n",
       "      <td>0.800305</td>\n",
       "      <td>0.952697</td>\n",
       "      <td>0.127004</td>\n",
       "      <td>0.117821</td>\n",
       "      <td>0.016284</td>\n",
       "      <td>-0.119563</td>\n",
       "      <td>-0.222762</td>\n",
       "      <td>-0.048458</td>\n",
       "      <td>0.119563</td>\n",
       "      <td>0.111381</td>\n",
       "      <td>0.016153</td>\n",
       "    </tr>\n",
       "    <tr>\n",
       "      <th>2022-06-30</th>\n",
       "      <td>0.878349</td>\n",
       "      <td>0.792686</td>\n",
       "      <td>0.990984</td>\n",
       "      <td>0.138500</td>\n",
       "      <td>0.123180</td>\n",
       "      <td>0.003024</td>\n",
       "      <td>-0.129711</td>\n",
       "      <td>-0.232328</td>\n",
       "      <td>-0.009057</td>\n",
       "      <td>0.129711</td>\n",
       "      <td>0.116164</td>\n",
       "      <td>0.003019</td>\n",
       "    </tr>\n",
       "    <tr>\n",
       "      <th>...</th>\n",
       "      <td>...</td>\n",
       "      <td>...</td>\n",
       "      <td>...</td>\n",
       "      <td>...</td>\n",
       "      <td>...</td>\n",
       "      <td>...</td>\n",
       "      <td>...</td>\n",
       "      <td>...</td>\n",
       "      <td>...</td>\n",
       "      <td>...</td>\n",
       "      <td>...</td>\n",
       "      <td>...</td>\n",
       "    </tr>\n",
       "    <tr>\n",
       "      <th>2012-10-31</th>\n",
       "      <td>0.938520</td>\n",
       "      <td>0.850100</td>\n",
       "      <td>1.083364</td>\n",
       "      <td>0.065507</td>\n",
       "      <td>0.084588</td>\n",
       "      <td>-0.026337</td>\n",
       "      <td>-0.063451</td>\n",
       "      <td>-0.162401</td>\n",
       "      <td>0.080071</td>\n",
       "      <td>0.063451</td>\n",
       "      <td>0.081201</td>\n",
       "      <td>-0.026690</td>\n",
       "    </tr>\n",
       "    <tr>\n",
       "      <th>2012-09-30</th>\n",
       "      <td>0.930100</td>\n",
       "      <td>0.873745</td>\n",
       "      <td>1.058065</td>\n",
       "      <td>0.075153</td>\n",
       "      <td>0.069812</td>\n",
       "      <td>-0.018638</td>\n",
       "      <td>-0.072463</td>\n",
       "      <td>-0.134967</td>\n",
       "      <td>0.056442</td>\n",
       "      <td>0.072463</td>\n",
       "      <td>0.067483</td>\n",
       "      <td>-0.018814</td>\n",
       "    </tr>\n",
       "    <tr>\n",
       "      <th>2012-08-31</th>\n",
       "      <td>0.924305</td>\n",
       "      <td>0.866180</td>\n",
       "      <td>1.048780</td>\n",
       "      <td>0.081894</td>\n",
       "      <td>0.074474</td>\n",
       "      <td>-0.015751</td>\n",
       "      <td>-0.078713</td>\n",
       "      <td>-0.143663</td>\n",
       "      <td>0.047628</td>\n",
       "      <td>0.078713</td>\n",
       "      <td>0.071831</td>\n",
       "      <td>-0.015876</td>\n",
       "    </tr>\n",
       "    <tr>\n",
       "      <th>2012-07-31</th>\n",
       "      <td>0.937410</td>\n",
       "      <td>0.860395</td>\n",
       "      <td>1.042515</td>\n",
       "      <td>0.066769</td>\n",
       "      <td>0.078080</td>\n",
       "      <td>-0.013783</td>\n",
       "      <td>-0.064635</td>\n",
       "      <td>-0.150364</td>\n",
       "      <td>0.041636</td>\n",
       "      <td>0.064635</td>\n",
       "      <td>0.075182</td>\n",
       "      <td>-0.013879</td>\n",
       "    </tr>\n",
       "    <tr>\n",
       "      <th>2012-06-30</th>\n",
       "      <td>0.930095</td>\n",
       "      <td>0.853875</td>\n",
       "      <td>1.032100</td>\n",
       "      <td>0.075159</td>\n",
       "      <td>0.082188</td>\n",
       "      <td>-0.010477</td>\n",
       "      <td>-0.072469</td>\n",
       "      <td>-0.157970</td>\n",
       "      <td>0.031596</td>\n",
       "      <td>0.072469</td>\n",
       "      <td>0.078985</td>\n",
       "      <td>-0.010532</td>\n",
       "    </tr>\n",
       "  </tbody>\n",
       "</table>\n",
       "<p>125 rows × 12 columns</p>\n",
       "</div>"
      ],
      "text/plain": [
       "              B_t(1)    B_t(2)    B_t(3)    r_t(1)    r_t(2)    r_t(3)  \\\n",
       "2022-10-31  0.888250  0.829531  0.996378  0.125809  0.097953  0.001210   \n",
       "2022-09-30  0.908698  0.826359  0.991628  0.100476  0.100058  0.002806   \n",
       "2022-08-31  0.898608  0.815204  0.976025  0.112832  0.107559  0.008122   \n",
       "2022-07-31  0.887308  0.800305  0.952697  0.127004  0.117821  0.016284   \n",
       "2022-06-30  0.878349  0.792686  0.990984  0.138500  0.123180  0.003024   \n",
       "...              ...       ...       ...       ...       ...       ...   \n",
       "2012-10-31  0.938520  0.850100  1.083364  0.065507  0.084588 -0.026337   \n",
       "2012-09-30  0.930100  0.873745  1.058065  0.075153  0.069812 -0.018638   \n",
       "2012-08-31  0.924305  0.866180  1.048780  0.081894  0.074474 -0.015751   \n",
       "2012-07-31  0.937410  0.860395  1.042515  0.066769  0.078080 -0.013783   \n",
       "2012-06-30  0.930095  0.853875  1.032100  0.075159  0.082188 -0.010477   \n",
       "\n",
       "              P_t(1)    P_t(2)    P_t(3)    y_t(1)    y_t(2)    y_t(3)  \n",
       "2022-10-31 -0.118502 -0.186895 -0.003629  0.118502  0.093447  0.001210  \n",
       "2022-09-30 -0.095742 -0.190726 -0.008407  0.095742  0.095363  0.002802  \n",
       "2022-08-31 -0.106908 -0.204317 -0.024267  0.106908  0.102158  0.008089  \n",
       "2022-07-31 -0.119563 -0.222762 -0.048458  0.119563  0.111381  0.016153  \n",
       "2022-06-30 -0.129711 -0.232328 -0.009057  0.129711  0.116164  0.003019  \n",
       "...              ...       ...       ...       ...       ...       ...  \n",
       "2012-10-31 -0.063451 -0.162401  0.080071  0.063451  0.081201 -0.026690  \n",
       "2012-09-30 -0.072463 -0.134967  0.056442  0.072463  0.067483 -0.018814  \n",
       "2012-08-31 -0.078713 -0.143663  0.047628  0.078713  0.071831 -0.015876  \n",
       "2012-07-31 -0.064635 -0.150364  0.041636  0.064635  0.075182 -0.013879  \n",
       "2012-06-30 -0.072469 -0.157970  0.031596  0.072469  0.078985 -0.010532  \n",
       "\n",
       "[125 rows x 12 columns]"
      ]
     },
     "execution_count": 14,
     "metadata": {},
     "output_type": "execute_result"
    }
   ],
   "source": [
    "ltn_precos"
   ]
  },
  {
   "cell_type": "markdown",
   "metadata": {},
   "source": [
    "Precisamos definir a yield $y_{t+1}^{(n-1)}$ como o rendimento de comprar uma LTN em $t+1$ que paga R\\$1 em $t+1+(n-1) = t+n$"
   ]
  },
  {
   "cell_type": "code",
   "execution_count": 15,
   "metadata": {},
   "outputs": [],
   "source": [
    "ltn_precos['y_t+1(2-1)'] = ltn_precos['y_t(1)'].shift(12)\n",
    "ltn_precos['y_t+1(3-1)'] = ltn_precos['y_t(2)'].shift(12)"
   ]
  },
  {
   "cell_type": "markdown",
   "metadata": {},
   "source": [
    "Defina $s_t^{(n)} = y_t^{(n)} - y_t^{(1)}$"
   ]
  },
  {
   "cell_type": "code",
   "execution_count": 16,
   "metadata": {},
   "outputs": [],
   "source": [
    "ltn_precos['s_t(2)'] = ltn_precos['y_t(2)'] - ltn_precos['y_t(1)']\n",
    "ltn_precos['s_t(3)'] = ltn_precos['y_t(3)'] - ltn_precos['y_t(1)']"
   ]
  },
  {
   "cell_type": "markdown",
   "metadata": {},
   "source": [
    "O primeiro modelo de Campbell e Schiller (1991) é mostrado a seguir\n",
    "\n",
    "$$\n",
    "y_{t+1}^{(n-1)} - y_t^{(n)} = \\alpha_n + \\beta_n \\frac{s_t^{(n)}}{n-1} + \\epsilon_t^{(n)}\n",
    "$$"
   ]
  },
  {
   "cell_type": "code",
   "execution_count": 17,
   "metadata": {},
   "outputs": [],
   "source": [
    "ltn_precos['y'] = ltn_precos['y_t+1(2-1)'] - ltn_precos['y_t(2)']\n",
    "ltn_precos['x'] = ltn_precos['s_t(2)']\n",
    "result = sm.ols(formula=\"y ~ x\", data=ltn_precos).fit()"
   ]
  },
  {
   "cell_type": "markdown",
   "metadata": {},
   "source": [
    "Para $n = 2$, a regressão é\n",
    "\n",
    "$$\n",
    "y_{t+1}^{(1)} - y_t^{(2)} = \\alpha_2 + \\beta_2 s_t^{(2)} + \\epsilon_t^{(2)}\n",
    "$$"
   ]
  },
  {
   "cell_type": "code",
   "execution_count": 18,
   "metadata": {},
   "outputs": [
    {
     "name": "stdout",
     "output_type": "stream",
     "text": [
      "                            OLS Regression Results                            \n",
      "==============================================================================\n",
      "Dep. Variable:                      y   R-squared:                       0.093\n",
      "Model:                            OLS   Adj. R-squared:                  0.085\n",
      "Method:                 Least Squares   F-statistic:                     11.44\n",
      "Date:                Fri, 21 Oct 2022   Prob (F-statistic):           0.000996\n",
      "Time:                        11:53:36   Log-Likelihood:                 233.67\n",
      "No. Observations:                 113   AIC:                            -463.3\n",
      "Df Residuals:                     111   BIC:                            -457.9\n",
      "Df Model:                           1                                         \n",
      "Covariance Type:            nonrobust                                         \n",
      "==============================================================================\n",
      "                 coef    std err          t      P>|t|      [0.025      0.975]\n",
      "------------------------------------------------------------------------------\n",
      "Intercept     -0.0004      0.003     -0.114      0.910      -0.007       0.006\n",
      "x             -0.5726      0.169     -3.382      0.001      -0.908      -0.237\n",
      "==============================================================================\n",
      "Omnibus:                        4.473   Durbin-Watson:                   0.317\n",
      "Prob(Omnibus):                  0.107   Jarque-Bera (JB):                4.516\n",
      "Skew:                           0.463   Prob(JB):                        0.105\n",
      "Kurtosis:                       2.683   Cond. No.                         58.3\n",
      "==============================================================================\n",
      "\n",
      "Notes:\n",
      "[1] Standard Errors assume that the covariance matrix of the errors is correctly specified.\n"
     ]
    }
   ],
   "source": [
    "print(result.summary())"
   ]
  },
  {
   "cell_type": "code",
   "execution_count": 19,
   "metadata": {},
   "outputs": [],
   "source": [
    "ltn_precos['y'] = ltn_precos['y_t+1(3-1)'] - ltn_precos['y_t(3)']\n",
    "ltn_precos['x'] = ltn_precos['s_t(3)']/2\n",
    "result = sm.ols(formula=\"y ~ x\", data=ltn_precos).fit()"
   ]
  },
  {
   "cell_type": "markdown",
   "metadata": {},
   "source": [
    "Para $n = 3$, a regressão é\n",
    "\n",
    "$$\n",
    "y_{t+1}^{(2)} - y_t^{(3)} = \\alpha_3 + \\beta_3 \\frac{s_t^{(3)}}{2} + \\epsilon_t^{(3)}\n",
    "$$"
   ]
  },
  {
   "cell_type": "code",
   "execution_count": 20,
   "metadata": {},
   "outputs": [
    {
     "name": "stdout",
     "output_type": "stream",
     "text": [
      "                            OLS Regression Results                            \n",
      "==============================================================================\n",
      "Dep. Variable:                      y   R-squared:                       0.749\n",
      "Model:                            OLS   Adj. R-squared:                  0.747\n",
      "Method:                 Least Squares   F-statistic:                     331.3\n",
      "Date:                Fri, 21 Oct 2022   Prob (F-statistic):           4.13e-35\n",
      "Time:                        11:53:51   Log-Likelihood:                 221.22\n",
      "No. Observations:                 113   AIC:                            -438.4\n",
      "Df Residuals:                     111   BIC:                            -433.0\n",
      "Df Model:                           1                                         \n",
      "Covariance Type:            nonrobust                                         \n",
      "==============================================================================\n",
      "                 coef    std err          t      P>|t|      [0.025      0.975]\n",
      "------------------------------------------------------------------------------\n",
      "Intercept      0.0083      0.004      2.315      0.022       0.001       0.015\n",
      "x             -2.4196      0.133    -18.203      0.000      -2.683      -2.156\n",
      "==============================================================================\n",
      "Omnibus:                        7.130   Durbin-Watson:                   0.268\n",
      "Prob(Omnibus):                  0.028   Jarque-Bera (JB):                6.420\n",
      "Skew:                           0.509   Prob(JB):                       0.0403\n",
      "Kurtosis:                       2.429   Cond. No.                         41.0\n",
      "==============================================================================\n",
      "\n",
      "Notes:\n",
      "[1] Standard Errors assume that the covariance matrix of the errors is correctly specified.\n"
     ]
    }
   ],
   "source": [
    "print(result.summary())"
   ]
  },
  {
   "cell_type": "code",
   "execution_count": null,
   "metadata": {},
   "outputs": [],
   "source": []
  }
 ],
 "metadata": {
  "kernelspec": {
   "display_name": "Python 3.10.2 64-bit",
   "language": "python",
   "name": "python3"
  },
  "language_info": {
   "codemirror_mode": {
    "name": "ipython",
    "version": 3
   },
   "file_extension": ".py",
   "mimetype": "text/x-python",
   "name": "python",
   "nbconvert_exporter": "python",
   "pygments_lexer": "ipython3",
   "version": "3.10.2"
  },
  "orig_nbformat": 4,
  "vscode": {
   "interpreter": {
    "hash": "c63d8c7d738c2960218a10995aedf0a7f67a49a231e71037adf0440953cdb45b"
   }
  }
 },
 "nbformat": 4,
 "nbformat_minor": 2
}
