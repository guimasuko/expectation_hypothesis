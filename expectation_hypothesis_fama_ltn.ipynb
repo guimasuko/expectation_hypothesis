{
 "cells": [
  {
   "cell_type": "markdown",
   "metadata": {},
   "source": [
    "## Fama e Bliss (1987)"
   ]
  },
  {
   "cell_type": "markdown",
   "metadata": {},
   "source": [
    "Usando os dados das LTNs"
   ]
  },
  {
   "cell_type": "code",
   "execution_count": 2,
   "metadata": {},
   "outputs": [],
   "source": [
    "import math\n",
    "import numpy as np\n",
    "import pandas as pd\n",
    "import matplotlib.pyplot as plt\n",
    "import statsmodels.formula.api as sm"
   ]
  },
  {
   "cell_type": "markdown",
   "metadata": {},
   "source": [
    "Para o caso brasileiro, a base de dados que será usada são os preços da Letra do Tesouro Nacional (LTN), cujo pagamento de R\\$ 1000 é feito após $t$ períodos. As LTNs farão o papel dos títulos americanos."
   ]
  },
  {
   "cell_type": "markdown",
   "metadata": {},
   "source": [
    "Os dados das LTNs estão em periodicidade mensal (último dia do mês), e abrangem todo o período a partir de Junho de 2012 até Outubro de 2022. Essa base de dados também foi obtida via Reuters com acesso concedido pelo departamento de Economia da PUC-Rio."
   ]
  },
  {
   "cell_type": "code",
   "execution_count": 3,
   "metadata": {},
   "outputs": [],
   "source": [
    "# lendo base de dados dos preços das LTNs\n",
    "ltn_precos = pd.read_csv('ltn_precos.csv', sep=',', index_col=0)"
   ]
  },
  {
   "cell_type": "code",
   "execution_count": 4,
   "metadata": {},
   "outputs": [],
   "source": [
    "# função que transforma a coluna de datas em datas de fato\n",
    "ltn_precos.index = pd.to_datetime(ltn_precos.index)"
   ]
  },
  {
   "cell_type": "code",
   "execution_count": 5,
   "metadata": {},
   "outputs": [
    {
     "data": {
      "text/html": [
       "<div>\n",
       "<style scoped>\n",
       "    .dataframe tbody tr th:only-of-type {\n",
       "        vertical-align: middle;\n",
       "    }\n",
       "\n",
       "    .dataframe tbody tr th {\n",
       "        vertical-align: top;\n",
       "    }\n",
       "\n",
       "    .dataframe thead th {\n",
       "        text-align: right;\n",
       "    }\n",
       "</style>\n",
       "<table border=\"1\" class=\"dataframe\">\n",
       "  <thead>\n",
       "    <tr style=\"text-align: right;\">\n",
       "      <th></th>\n",
       "      <th>BR6MT=RR</th>\n",
       "      <th>BR1YT=RR</th>\n",
       "      <th>BR2YT=RR</th>\n",
       "      <th>BR3YT=RR</th>\n",
       "      <th>Unnamed: 5</th>\n",
       "      <th>Unnamed: 6</th>\n",
       "    </tr>\n",
       "  </thead>\n",
       "  <tbody>\n",
       "    <tr>\n",
       "      <th>2022-10-31</th>\n",
       "      <td>941.2195</td>\n",
       "      <td>888.250</td>\n",
       "      <td>829.531</td>\n",
       "      <td>996.3775</td>\n",
       "      <td>NaN</td>\n",
       "      <td>NaN</td>\n",
       "    </tr>\n",
       "    <tr>\n",
       "      <th>2022-09-30</th>\n",
       "      <td>966.9310</td>\n",
       "      <td>908.698</td>\n",
       "      <td>826.359</td>\n",
       "      <td>991.6280</td>\n",
       "      <td>NaN</td>\n",
       "      <td>NaN</td>\n",
       "    </tr>\n",
       "    <tr>\n",
       "      <th>2022-08-31</th>\n",
       "      <td>956.1750</td>\n",
       "      <td>898.608</td>\n",
       "      <td>815.204</td>\n",
       "      <td>976.0250</td>\n",
       "      <td>NaN</td>\n",
       "      <td>NaN</td>\n",
       "    </tr>\n",
       "    <tr>\n",
       "      <th>2022-07-31</th>\n",
       "      <td>944.5160</td>\n",
       "      <td>887.308</td>\n",
       "      <td>800.305</td>\n",
       "      <td>952.6970</td>\n",
       "      <td>NaN</td>\n",
       "      <td>NaN</td>\n",
       "    </tr>\n",
       "    <tr>\n",
       "      <th>2022-06-30</th>\n",
       "      <td>965.8870</td>\n",
       "      <td>878.349</td>\n",
       "      <td>792.686</td>\n",
       "      <td>990.9840</td>\n",
       "      <td>NaN</td>\n",
       "      <td>NaN</td>\n",
       "    </tr>\n",
       "    <tr>\n",
       "      <th>...</th>\n",
       "      <td>...</td>\n",
       "      <td>...</td>\n",
       "      <td>...</td>\n",
       "      <td>...</td>\n",
       "      <td>...</td>\n",
       "      <td>...</td>\n",
       "    </tr>\n",
       "    <tr>\n",
       "      <th>NaT</th>\n",
       "      <td>NaN</td>\n",
       "      <td>NaN</td>\n",
       "      <td>NaN</td>\n",
       "      <td>NaN</td>\n",
       "      <td>NaN</td>\n",
       "      <td>NaN</td>\n",
       "    </tr>\n",
       "    <tr>\n",
       "      <th>NaT</th>\n",
       "      <td>NaN</td>\n",
       "      <td>NaN</td>\n",
       "      <td>NaN</td>\n",
       "      <td>NaN</td>\n",
       "      <td>NaN</td>\n",
       "      <td>NaN</td>\n",
       "    </tr>\n",
       "    <tr>\n",
       "      <th>NaT</th>\n",
       "      <td>NaN</td>\n",
       "      <td>NaN</td>\n",
       "      <td>NaN</td>\n",
       "      <td>NaN</td>\n",
       "      <td>NaN</td>\n",
       "      <td>NaN</td>\n",
       "    </tr>\n",
       "    <tr>\n",
       "      <th>NaT</th>\n",
       "      <td>NaN</td>\n",
       "      <td>NaN</td>\n",
       "      <td>NaN</td>\n",
       "      <td>NaN</td>\n",
       "      <td>NaN</td>\n",
       "      <td>NaN</td>\n",
       "    </tr>\n",
       "    <tr>\n",
       "      <th>NaT</th>\n",
       "      <td>NaN</td>\n",
       "      <td>NaN</td>\n",
       "      <td>NaN</td>\n",
       "      <td>NaN</td>\n",
       "      <td>NaN</td>\n",
       "      <td>NaN</td>\n",
       "    </tr>\n",
       "  </tbody>\n",
       "</table>\n",
       "<p>202 rows × 6 columns</p>\n",
       "</div>"
      ],
      "text/plain": [
       "            BR6MT=RR  BR1YT=RR  BR2YT=RR  BR3YT=RR  Unnamed: 5  Unnamed: 6\n",
       "2022-10-31  941.2195   888.250   829.531  996.3775         NaN         NaN\n",
       "2022-09-30  966.9310   908.698   826.359  991.6280         NaN         NaN\n",
       "2022-08-31  956.1750   898.608   815.204  976.0250         NaN         NaN\n",
       "2022-07-31  944.5160   887.308   800.305  952.6970         NaN         NaN\n",
       "2022-06-30  965.8870   878.349   792.686  990.9840         NaN         NaN\n",
       "...              ...       ...       ...       ...         ...         ...\n",
       "NaT              NaN       NaN       NaN       NaN         NaN         NaN\n",
       "NaT              NaN       NaN       NaN       NaN         NaN         NaN\n",
       "NaT              NaN       NaN       NaN       NaN         NaN         NaN\n",
       "NaT              NaN       NaN       NaN       NaN         NaN         NaN\n",
       "NaT              NaN       NaN       NaN       NaN         NaN         NaN\n",
       "\n",
       "[202 rows x 6 columns]"
      ]
     },
     "execution_count": 5,
     "metadata": {},
     "output_type": "execute_result"
    }
   ],
   "source": [
    "ltn_precos"
   ]
  },
  {
   "cell_type": "code",
   "execution_count": 6,
   "metadata": {},
   "outputs": [],
   "source": [
    "# dropando a coluna da LTN com pagamento após 6 meses e duas colunas sem valores\n",
    "ltn_precos = ltn_precos.drop(['BR6MT=RR', 'Unnamed: 5', 'Unnamed: 6'], axis=1)"
   ]
  },
  {
   "cell_type": "code",
   "execution_count": 7,
   "metadata": {},
   "outputs": [],
   "source": [
    "# dropando os NaNs\n",
    "ltn_precos = ltn_precos.loc[ltn_precos.index.dropna()]"
   ]
  },
  {
   "cell_type": "markdown",
   "metadata": {},
   "source": [
    "Para ficar de acordo com o paper de Fama e Bliss (1987), divide-se o valor das LTNs por 1000 de forma que o pagamento agora, é de R\\$1."
   ]
  },
  {
   "cell_type": "code",
   "execution_count": 9,
   "metadata": {},
   "outputs": [],
   "source": [
    "# normalizando os preços das LTNs para que o pagamento seja de R$1\n",
    "ltn_precos = ltn_precos/1000"
   ]
  },
  {
   "cell_type": "code",
   "execution_count": 10,
   "metadata": {},
   "outputs": [
    {
     "data": {
      "text/html": [
       "<div>\n",
       "<style scoped>\n",
       "    .dataframe tbody tr th:only-of-type {\n",
       "        vertical-align: middle;\n",
       "    }\n",
       "\n",
       "    .dataframe tbody tr th {\n",
       "        vertical-align: top;\n",
       "    }\n",
       "\n",
       "    .dataframe thead th {\n",
       "        text-align: right;\n",
       "    }\n",
       "</style>\n",
       "<table border=\"1\" class=\"dataframe\">\n",
       "  <thead>\n",
       "    <tr style=\"text-align: right;\">\n",
       "      <th></th>\n",
       "      <th>BR1YT=RR</th>\n",
       "      <th>BR2YT=RR</th>\n",
       "      <th>BR3YT=RR</th>\n",
       "    </tr>\n",
       "  </thead>\n",
       "  <tbody>\n",
       "    <tr>\n",
       "      <th>2022-10-31</th>\n",
       "      <td>0.888250</td>\n",
       "      <td>0.829531</td>\n",
       "      <td>0.996378</td>\n",
       "    </tr>\n",
       "    <tr>\n",
       "      <th>2022-09-30</th>\n",
       "      <td>0.908698</td>\n",
       "      <td>0.826359</td>\n",
       "      <td>0.991628</td>\n",
       "    </tr>\n",
       "    <tr>\n",
       "      <th>2022-08-31</th>\n",
       "      <td>0.898608</td>\n",
       "      <td>0.815204</td>\n",
       "      <td>0.976025</td>\n",
       "    </tr>\n",
       "    <tr>\n",
       "      <th>2022-07-31</th>\n",
       "      <td>0.887308</td>\n",
       "      <td>0.800305</td>\n",
       "      <td>0.952697</td>\n",
       "    </tr>\n",
       "    <tr>\n",
       "      <th>2022-06-30</th>\n",
       "      <td>0.878349</td>\n",
       "      <td>0.792686</td>\n",
       "      <td>0.990984</td>\n",
       "    </tr>\n",
       "    <tr>\n",
       "      <th>...</th>\n",
       "      <td>...</td>\n",
       "      <td>...</td>\n",
       "      <td>...</td>\n",
       "    </tr>\n",
       "    <tr>\n",
       "      <th>2012-10-31</th>\n",
       "      <td>0.938520</td>\n",
       "      <td>0.850100</td>\n",
       "      <td>1.083364</td>\n",
       "    </tr>\n",
       "    <tr>\n",
       "      <th>2012-09-30</th>\n",
       "      <td>0.930100</td>\n",
       "      <td>0.873745</td>\n",
       "      <td>1.058065</td>\n",
       "    </tr>\n",
       "    <tr>\n",
       "      <th>2012-08-31</th>\n",
       "      <td>0.924305</td>\n",
       "      <td>0.866180</td>\n",
       "      <td>1.048780</td>\n",
       "    </tr>\n",
       "    <tr>\n",
       "      <th>2012-07-31</th>\n",
       "      <td>0.937410</td>\n",
       "      <td>0.860395</td>\n",
       "      <td>1.042515</td>\n",
       "    </tr>\n",
       "    <tr>\n",
       "      <th>2012-06-30</th>\n",
       "      <td>0.930095</td>\n",
       "      <td>0.853875</td>\n",
       "      <td>1.032100</td>\n",
       "    </tr>\n",
       "  </tbody>\n",
       "</table>\n",
       "<p>125 rows × 3 columns</p>\n",
       "</div>"
      ],
      "text/plain": [
       "            BR1YT=RR  BR2YT=RR  BR3YT=RR\n",
       "2022-10-31  0.888250  0.829531  0.996378\n",
       "2022-09-30  0.908698  0.826359  0.991628\n",
       "2022-08-31  0.898608  0.815204  0.976025\n",
       "2022-07-31  0.887308  0.800305  0.952697\n",
       "2022-06-30  0.878349  0.792686  0.990984\n",
       "...              ...       ...       ...\n",
       "2012-10-31  0.938520  0.850100  1.083364\n",
       "2012-09-30  0.930100  0.873745  1.058065\n",
       "2012-08-31  0.924305  0.866180  1.048780\n",
       "2012-07-31  0.937410  0.860395  1.042515\n",
       "2012-06-30  0.930095  0.853875  1.032100\n",
       "\n",
       "[125 rows x 3 columns]"
      ]
     },
     "execution_count": 10,
     "metadata": {},
     "output_type": "execute_result"
    }
   ],
   "source": [
    "ltn_precos"
   ]
  },
  {
   "cell_type": "code",
   "execution_count": 12,
   "metadata": {},
   "outputs": [],
   "source": [
    "# renomenado as colunas de acordo com o paper\n",
    "ltn_precos = ltn_precos.rename(columns={'BR1YT=RR':'p(1:t)', 'BR2YT=RR':'p(2:t)', 'BR3YT=RR':'p(3:t)'})"
   ]
  },
  {
   "cell_type": "markdown",
   "metadata": {},
   "source": [
    "Agora precisamos criar algumas taxas de retorno. No artigo Fama e Bliss (1987), definem o rendimento de um título que paga \\$1 em $t+x$ comprado em $t$ como \n",
    "\n",
    "$$\n",
    "r(x:t) = \\ln\\left[\\frac{p(x:t+x)}{p(x:t)}\\right]\n",
    "$$\n",
    "\n",
    "Como $p(x:t+x) = 1$\n",
    "\n",
    "$$\n",
    "r(x:t) = -\\ln[{p(x:t)}]\n",
    "$$"
   ]
  },
  {
   "cell_type": "code",
   "execution_count": 13,
   "metadata": {},
   "outputs": [],
   "source": [
    "ltn_precos['r(1:t)'] = -np.log(ltn_precos['p(1:t)'])\n",
    "ltn_precos['r(2:t)'] = -np.log(ltn_precos['p(2:t)'])\n",
    "ltn_precos['r(3:t)'] = -np.log(ltn_precos['p(3:t)'])"
   ]
  },
  {
   "cell_type": "markdown",
   "metadata": {},
   "source": [
    "Uma outra taxa que será necessária é $r(x:t+1)$, interpretada como o retorno de uma LTN comprada em $t+1$ que paga R\\$1 em $t+x+1$. A equação que nos entrega essa taxa é dada por\n",
    "\n",
    "$$\n",
    "r(x:t+1) = \\frac{[1+r(x-1:t)]}{[1+r(1:t)]} - 1\n",
    "$$"
   ]
  },
  {
   "cell_type": "code",
   "execution_count": 14,
   "metadata": {},
   "outputs": [],
   "source": [
    "ltn_precos['r(1:t+1)'] = ((1+ltn_precos['r(2:t)'])/(1+ltn_precos['r(1:t)'])) - 1\n",
    "ltn_precos['r(2:t+1)'] = ((1+ltn_precos['r(3:t)'])/(1+ltn_precos['r(1:t)'])) - 1"
   ]
  },
  {
   "cell_type": "markdown",
   "metadata": {},
   "source": [
    "A última taxa necessária para a construção das variáveis é $r(1:t+x)$ que representa o retorno da LTN comprada em $t+x$ que paga R\\$1 em $t+x+1$ obtida através de\n",
    "\n",
    "$$\n",
    "r(1:t+x) = \\frac{[1+r(x+1:t)]}{[1+r(x:t)]} -1\n",
    "$$"
   ]
  },
  {
   "cell_type": "code",
   "execution_count": 15,
   "metadata": {},
   "outputs": [],
   "source": [
    "ltn_precos['r(1:t+2)'] = ((1+ltn_precos['r(3:t)'])/(1+ltn_precos['r(2:t)'])) - 1"
   ]
  },
  {
   "cell_type": "code",
   "execution_count": 16,
   "metadata": {},
   "outputs": [
    {
     "data": {
      "text/html": [
       "<div>\n",
       "<style scoped>\n",
       "    .dataframe tbody tr th:only-of-type {\n",
       "        vertical-align: middle;\n",
       "    }\n",
       "\n",
       "    .dataframe tbody tr th {\n",
       "        vertical-align: top;\n",
       "    }\n",
       "\n",
       "    .dataframe thead th {\n",
       "        text-align: right;\n",
       "    }\n",
       "</style>\n",
       "<table border=\"1\" class=\"dataframe\">\n",
       "  <thead>\n",
       "    <tr style=\"text-align: right;\">\n",
       "      <th></th>\n",
       "      <th>p(1:t)</th>\n",
       "      <th>p(2:t)</th>\n",
       "      <th>p(3:t)</th>\n",
       "      <th>r(1:t)</th>\n",
       "      <th>r(2:t)</th>\n",
       "      <th>r(3:t)</th>\n",
       "      <th>r(1:t+1)</th>\n",
       "      <th>r(2:t+1)</th>\n",
       "      <th>r(1:t+2)</th>\n",
       "    </tr>\n",
       "  </thead>\n",
       "  <tbody>\n",
       "    <tr>\n",
       "      <th>2022-10-31</th>\n",
       "      <td>0.888250</td>\n",
       "      <td>0.829531</td>\n",
       "      <td>0.996378</td>\n",
       "      <td>0.118502</td>\n",
       "      <td>0.186895</td>\n",
       "      <td>0.003629</td>\n",
       "      <td>0.061147</td>\n",
       "      <td>-0.102703</td>\n",
       "      <td>-0.154408</td>\n",
       "    </tr>\n",
       "    <tr>\n",
       "      <th>2022-09-30</th>\n",
       "      <td>0.908698</td>\n",
       "      <td>0.826359</td>\n",
       "      <td>0.991628</td>\n",
       "      <td>0.095742</td>\n",
       "      <td>0.190726</td>\n",
       "      <td>0.008407</td>\n",
       "      <td>0.086684</td>\n",
       "      <td>-0.079704</td>\n",
       "      <td>-0.153116</td>\n",
       "    </tr>\n",
       "    <tr>\n",
       "      <th>2022-08-31</th>\n",
       "      <td>0.898608</td>\n",
       "      <td>0.815204</td>\n",
       "      <td>0.976025</td>\n",
       "      <td>0.106908</td>\n",
       "      <td>0.204317</td>\n",
       "      <td>0.024267</td>\n",
       "      <td>0.088001</td>\n",
       "      <td>-0.074660</td>\n",
       "      <td>-0.149504</td>\n",
       "    </tr>\n",
       "    <tr>\n",
       "      <th>2022-07-31</th>\n",
       "      <td>0.887308</td>\n",
       "      <td>0.800305</td>\n",
       "      <td>0.952697</td>\n",
       "      <td>0.119563</td>\n",
       "      <td>0.222762</td>\n",
       "      <td>0.048458</td>\n",
       "      <td>0.092178</td>\n",
       "      <td>-0.063511</td>\n",
       "      <td>-0.142549</td>\n",
       "    </tr>\n",
       "    <tr>\n",
       "      <th>2022-06-30</th>\n",
       "      <td>0.878349</td>\n",
       "      <td>0.792686</td>\n",
       "      <td>0.990984</td>\n",
       "      <td>0.129711</td>\n",
       "      <td>0.232328</td>\n",
       "      <td>0.009057</td>\n",
       "      <td>0.090835</td>\n",
       "      <td>-0.106801</td>\n",
       "      <td>-0.181178</td>\n",
       "    </tr>\n",
       "    <tr>\n",
       "      <th>...</th>\n",
       "      <td>...</td>\n",
       "      <td>...</td>\n",
       "      <td>...</td>\n",
       "      <td>...</td>\n",
       "      <td>...</td>\n",
       "      <td>...</td>\n",
       "      <td>...</td>\n",
       "      <td>...</td>\n",
       "      <td>...</td>\n",
       "    </tr>\n",
       "    <tr>\n",
       "      <th>2012-10-31</th>\n",
       "      <td>0.938520</td>\n",
       "      <td>0.850100</td>\n",
       "      <td>1.083364</td>\n",
       "      <td>0.063451</td>\n",
       "      <td>0.162401</td>\n",
       "      <td>-0.080071</td>\n",
       "      <td>0.093046</td>\n",
       "      <td>-0.134959</td>\n",
       "      <td>-0.208596</td>\n",
       "    </tr>\n",
       "    <tr>\n",
       "      <th>2012-09-30</th>\n",
       "      <td>0.930100</td>\n",
       "      <td>0.873745</td>\n",
       "      <td>1.058065</td>\n",
       "      <td>0.072463</td>\n",
       "      <td>0.134967</td>\n",
       "      <td>-0.056442</td>\n",
       "      <td>0.058280</td>\n",
       "      <td>-0.120195</td>\n",
       "      <td>-0.168647</td>\n",
       "    </tr>\n",
       "    <tr>\n",
       "      <th>2012-08-31</th>\n",
       "      <td>0.924305</td>\n",
       "      <td>0.866180</td>\n",
       "      <td>1.048780</td>\n",
       "      <td>0.078713</td>\n",
       "      <td>0.143663</td>\n",
       "      <td>-0.047628</td>\n",
       "      <td>0.060210</td>\n",
       "      <td>-0.117122</td>\n",
       "      <td>-0.167261</td>\n",
       "    </tr>\n",
       "    <tr>\n",
       "      <th>2012-07-31</th>\n",
       "      <td>0.937410</td>\n",
       "      <td>0.860395</td>\n",
       "      <td>1.042515</td>\n",
       "      <td>0.064635</td>\n",
       "      <td>0.150364</td>\n",
       "      <td>-0.041636</td>\n",
       "      <td>0.080525</td>\n",
       "      <td>-0.099819</td>\n",
       "      <td>-0.166904</td>\n",
       "    </tr>\n",
       "    <tr>\n",
       "      <th>2012-06-30</th>\n",
       "      <td>0.930095</td>\n",
       "      <td>0.853875</td>\n",
       "      <td>1.032100</td>\n",
       "      <td>0.072469</td>\n",
       "      <td>0.157970</td>\n",
       "      <td>-0.031596</td>\n",
       "      <td>0.079724</td>\n",
       "      <td>-0.097032</td>\n",
       "      <td>-0.163705</td>\n",
       "    </tr>\n",
       "  </tbody>\n",
       "</table>\n",
       "<p>125 rows × 9 columns</p>\n",
       "</div>"
      ],
      "text/plain": [
       "              p(1:t)    p(2:t)    p(3:t)    r(1:t)    r(2:t)    r(3:t)  \\\n",
       "2022-10-31  0.888250  0.829531  0.996378  0.118502  0.186895  0.003629   \n",
       "2022-09-30  0.908698  0.826359  0.991628  0.095742  0.190726  0.008407   \n",
       "2022-08-31  0.898608  0.815204  0.976025  0.106908  0.204317  0.024267   \n",
       "2022-07-31  0.887308  0.800305  0.952697  0.119563  0.222762  0.048458   \n",
       "2022-06-30  0.878349  0.792686  0.990984  0.129711  0.232328  0.009057   \n",
       "...              ...       ...       ...       ...       ...       ...   \n",
       "2012-10-31  0.938520  0.850100  1.083364  0.063451  0.162401 -0.080071   \n",
       "2012-09-30  0.930100  0.873745  1.058065  0.072463  0.134967 -0.056442   \n",
       "2012-08-31  0.924305  0.866180  1.048780  0.078713  0.143663 -0.047628   \n",
       "2012-07-31  0.937410  0.860395  1.042515  0.064635  0.150364 -0.041636   \n",
       "2012-06-30  0.930095  0.853875  1.032100  0.072469  0.157970 -0.031596   \n",
       "\n",
       "            r(1:t+1)  r(2:t+1)  r(1:t+2)  \n",
       "2022-10-31  0.061147 -0.102703 -0.154408  \n",
       "2022-09-30  0.086684 -0.079704 -0.153116  \n",
       "2022-08-31  0.088001 -0.074660 -0.149504  \n",
       "2022-07-31  0.092178 -0.063511 -0.142549  \n",
       "2022-06-30  0.090835 -0.106801 -0.181178  \n",
       "...              ...       ...       ...  \n",
       "2012-10-31  0.093046 -0.134959 -0.208596  \n",
       "2012-09-30  0.058280 -0.120195 -0.168647  \n",
       "2012-08-31  0.060210 -0.117122 -0.167261  \n",
       "2012-07-31  0.080525 -0.099819 -0.166904  \n",
       "2012-06-30  0.079724 -0.097032 -0.163705  \n",
       "\n",
       "[125 rows x 9 columns]"
      ]
     },
     "execution_count": 16,
     "metadata": {},
     "output_type": "execute_result"
    }
   ],
   "source": [
    "ltn_precos"
   ]
  },
  {
   "cell_type": "markdown",
   "metadata": {},
   "source": [
    "A taxa forward é definida como\n",
    "\n",
    "$$\n",
    "f(x,x-1:t) = r(x:t) - r(x-1:t)\n",
    "$$\n",
    "\n",
    "Enquanto a taxa de retorno no caso brasileiro, da LTN comprada em $t$ e vendida em $t+1$ que pagaria R\\$1 em $t+x-1$ é dada por\n",
    "\n",
    "$$\n",
    "h(x,x-1:t+1) = r(x:t) - r(x-1:t+1)\n",
    "$$"
   ]
  },
  {
   "cell_type": "code",
   "execution_count": 17,
   "metadata": {},
   "outputs": [],
   "source": [
    "ltn_precos['f(2,1:t)'] = ltn_precos['r(2:t)'] - ltn_precos['r(1:t)']\n",
    "ltn_precos['f(3,2:t)'] = ltn_precos['r(3:t)'] - ltn_precos['r(2:t)']\n",
    "\n",
    "ltn_precos['h(2,1:t+1)'] = ltn_precos['r(2:t)'] - ltn_precos['r(1:t+1)']\n",
    "ltn_precos['h(3,2:t+1)'] = ltn_precos['r(3:t)'] - ltn_precos['r(2:t+1)']"
   ]
  },
  {
   "cell_type": "markdown",
   "metadata": {},
   "source": [
    "A regressão da Tabela 1 é dada por\n",
    "\n",
    "$$\n",
    "h(x,x-1:t+1) - r(1:t) = \\alpha + \\beta \\left[f(x,x-1:t) - r(1:t)\\right] + u_2(t+1)\n",
    "$$"
   ]
  },
  {
   "cell_type": "markdown",
   "metadata": {},
   "source": [
    "onde o regressor é $f(x,x-1:t) - r(1:t)$ e o regressando $h(x,x-1:t+1) - r(1:t)$"
   ]
  },
  {
   "cell_type": "code",
   "execution_count": 18,
   "metadata": {},
   "outputs": [],
   "source": [
    "ltn_precos['y'] = ltn_precos['h(2,1:t+1)'] - ltn_precos['r(1:t)']\n",
    "ltn_precos['x'] = ltn_precos['f(2,1:t)'] - ltn_precos['r(1:t)']\n",
    "result = sm.ols(formula=\"y ~ x\", data=ltn_precos).fit()"
   ]
  },
  {
   "cell_type": "markdown",
   "metadata": {},
   "source": [
    "Para $x=2$, a regressão é\n",
    "\n",
    "\n",
    "$$\n",
    "h(2,1:t+1) - r(1:t) = \\alpha + \\beta \\left[f(2,1:t) - r(1:t)\\right] + u_2(t+1)\n",
    "$$"
   ]
  },
  {
   "cell_type": "code",
   "execution_count": 19,
   "metadata": {},
   "outputs": [
    {
     "name": "stdout",
     "output_type": "stream",
     "text": [
      "                            OLS Regression Results                            \n",
      "==============================================================================\n",
      "Dep. Variable:                      y   R-squared:                       0.184\n",
      "Model:                            OLS   Adj. R-squared:                  0.178\n",
      "Method:                 Least Squares   F-statistic:                     27.82\n",
      "Date:                Thu, 20 Oct 2022   Prob (F-statistic):           5.79e-07\n",
      "Time:                        18:34:43   Log-Likelihood:                 493.91\n",
      "No. Observations:                 125   AIC:                            -983.8\n",
      "Df Residuals:                     123   BIC:                            -978.2\n",
      "Df Model:                           1                                         \n",
      "Covariance Type:            nonrobust                                         \n",
      "==============================================================================\n",
      "                 coef    std err          t      P>|t|      [0.025      0.975]\n",
      "------------------------------------------------------------------------------\n",
      "Intercept      0.0065      0.000     13.796      0.000       0.006       0.007\n",
      "x              0.0635      0.012      5.275      0.000       0.040       0.087\n",
      "==============================================================================\n",
      "Omnibus:                        9.122   Durbin-Watson:                   0.210\n",
      "Prob(Omnibus):                  0.010   Jarque-Bera (JB):                8.634\n",
      "Skew:                           0.582   Prob(JB):                       0.0133\n",
      "Kurtosis:                       2.448   Cond. No.                         28.7\n",
      "==============================================================================\n",
      "\n",
      "Notes:\n",
      "[1] Standard Errors assume that the covariance matrix of the errors is correctly specified.\n"
     ]
    }
   ],
   "source": [
    "print(result.summary())"
   ]
  },
  {
   "cell_type": "code",
   "execution_count": 20,
   "metadata": {},
   "outputs": [],
   "source": [
    "ltn_precos['y'] = ltn_precos['h(3,2:t+1)'] - ltn_precos['r(1:t)']\n",
    "ltn_precos['x'] = ltn_precos['f(3,2:t)'] - ltn_precos['r(1:t)']\n",
    "result = sm.ols(formula=\"y ~ x\", data=ltn_precos).fit()"
   ]
  },
  {
   "cell_type": "markdown",
   "metadata": {},
   "source": [
    "Para $x=3$, a regressão é\n",
    "\n",
    "\n",
    "$$\n",
    "h(3,2:t+1) - r(1:t) = \\alpha + \\beta \\left[f(3,2:t) - r(1:t)\\right] + u_2(t+1)\n",
    "$$"
   ]
  },
  {
   "cell_type": "code",
   "execution_count": 21,
   "metadata": {},
   "outputs": [
    {
     "name": "stdout",
     "output_type": "stream",
     "text": [
      "                            OLS Regression Results                            \n",
      "==============================================================================\n",
      "Dep. Variable:                      y   R-squared:                       0.567\n",
      "Model:                            OLS   Adj. R-squared:                  0.564\n",
      "Method:                 Least Squares   F-statistic:                     161.3\n",
      "Date:                Thu, 20 Oct 2022   Prob (F-statistic):           4.00e-24\n",
      "Time:                        18:36:05   Log-Likelihood:                 434.29\n",
      "No. Observations:                 125   AIC:                            -864.6\n",
      "Df Residuals:                     123   BIC:                            -858.9\n",
      "Df Model:                           1                                         \n",
      "Covariance Type:            nonrobust                                         \n",
      "==============================================================================\n",
      "                 coef    std err          t      P>|t|      [0.025      0.975]\n",
      "------------------------------------------------------------------------------\n",
      "Intercept      0.0103      0.001     12.953      0.000       0.009       0.012\n",
      "x              0.0549      0.004     12.699      0.000       0.046       0.063\n",
      "==============================================================================\n",
      "Omnibus:                       40.834   Durbin-Watson:                   0.211\n",
      "Prob(Omnibus):                  0.000   Jarque-Bera (JB):               75.250\n",
      "Skew:                           1.461   Prob(JB):                     4.57e-17\n",
      "Kurtosis:                       5.431   Cond. No.                         6.46\n",
      "==============================================================================\n",
      "\n",
      "Notes:\n",
      "[1] Standard Errors assume that the covariance matrix of the errors is correctly specified.\n"
     ]
    }
   ],
   "source": [
    "print(result.summary())"
   ]
  },
  {
   "cell_type": "markdown",
   "metadata": {},
   "source": [
    "Para replicar o primeiro modelo da Tabela 3, basta alterar a variável $h(x,x-1:t+1)$ por $r(1:t+x-1)$, isso é\n",
    "\n",
    "$$\n",
    "r(1:t+x-1) - r(1:t) = \\alpha + \\beta \\left[f(x,x-1:t) - r(1:t)\\right] + u_2(t+1)\n",
    "$$"
   ]
  },
  {
   "cell_type": "code",
   "execution_count": 22,
   "metadata": {},
   "outputs": [],
   "source": [
    "ltn_precos['y'] = ltn_precos['r(1:t+1)'] - ltn_precos['r(1:t)']\n",
    "ltn_precos['x'] = ltn_precos['f(2,1:t)'] - ltn_precos['r(1:t)']\n",
    "result = sm.ols(formula=\"y ~ x\", data=ltn_precos).fit()"
   ]
  },
  {
   "cell_type": "markdown",
   "metadata": {},
   "source": [
    "Para $x=2$, a regressão é\n",
    "\n",
    "\n",
    "$$\n",
    "r(1:t+1) - r(1:t) = \\alpha + \\beta \\left[f(2,1:t) - r(1:t)\\right] + u_2(t+1)\n",
    "$$"
   ]
  },
  {
   "cell_type": "code",
   "execution_count": 23,
   "metadata": {},
   "outputs": [
    {
     "name": "stdout",
     "output_type": "stream",
     "text": [
      "                            OLS Regression Results                            \n",
      "==============================================================================\n",
      "Dep. Variable:                      y   R-squared:                       0.980\n",
      "Model:                            OLS   Adj. R-squared:                  0.980\n",
      "Method:                 Least Squares   F-statistic:                     6055.\n",
      "Date:                Thu, 20 Oct 2022   Prob (F-statistic):          1.80e-106\n",
      "Time:                        18:36:52   Log-Likelihood:                 493.91\n",
      "No. Observations:                 125   AIC:                            -983.8\n",
      "Df Residuals:                     123   BIC:                            -978.2\n",
      "Df Model:                           1                                         \n",
      "Covariance Type:            nonrobust                                         \n",
      "==============================================================================\n",
      "                 coef    std err          t      P>|t|      [0.025      0.975]\n",
      "------------------------------------------------------------------------------\n",
      "Intercept     -0.0065      0.000    -13.796      0.000      -0.007      -0.006\n",
      "x              0.9365      0.012     77.811      0.000       0.913       0.960\n",
      "==============================================================================\n",
      "Omnibus:                        9.122   Durbin-Watson:                   0.210\n",
      "Prob(Omnibus):                  0.010   Jarque-Bera (JB):                8.634\n",
      "Skew:                          -0.582   Prob(JB):                       0.0133\n",
      "Kurtosis:                       2.448   Cond. No.                         28.7\n",
      "==============================================================================\n",
      "\n",
      "Notes:\n",
      "[1] Standard Errors assume that the covariance matrix of the errors is correctly specified.\n"
     ]
    }
   ],
   "source": [
    "print(result.summary())"
   ]
  },
  {
   "cell_type": "code",
   "execution_count": 24,
   "metadata": {},
   "outputs": [],
   "source": [
    "ltn_precos['y'] = ltn_precos['r(1:t+2)'] - ltn_precos['r(1:t)']\n",
    "ltn_precos['x'] = ltn_precos['f(3,2:t)'] - ltn_precos['r(1:t)']\n",
    "result = sm.ols(formula=\"y ~ x\", data=ltn_precos).fit()"
   ]
  },
  {
   "cell_type": "markdown",
   "metadata": {},
   "source": [
    "Para $x=3$, a regressão é\n",
    "\n",
    "\n",
    "$$\n",
    "r(1:t+2) - r(1:t) = \\alpha + \\beta \\left[f(3,2:t) - r(1:t)\\right] + u_2(t+1)\n",
    "$$"
   ]
  },
  {
   "cell_type": "code",
   "execution_count": 25,
   "metadata": {},
   "outputs": [
    {
     "name": "stdout",
     "output_type": "stream",
     "text": [
      "                            OLS Regression Results                            \n",
      "==============================================================================\n",
      "Dep. Variable:                      y   R-squared:                       0.995\n",
      "Model:                            OLS   Adj. R-squared:                  0.995\n",
      "Method:                 Least Squares   F-statistic:                 2.596e+04\n",
      "Date:                Thu, 20 Oct 2022   Prob (F-statistic):          6.04e-145\n",
      "Time:                        18:37:28   Log-Likelihood:                 410.27\n",
      "No. Observations:                 125   AIC:                            -816.5\n",
      "Df Residuals:                     123   BIC:                            -810.9\n",
      "Df Model:                           1                                         \n",
      "Covariance Type:            nonrobust                                         \n",
      "==============================================================================\n",
      "                 coef    std err          t      P>|t|      [0.025      0.975]\n",
      "------------------------------------------------------------------------------\n",
      "Intercept     -0.0094      0.001     -9.747      0.000      -0.011      -0.008\n",
      "x              0.8437      0.005    161.120      0.000       0.833       0.854\n",
      "==============================================================================\n",
      "Omnibus:                        1.900   Durbin-Watson:                   0.155\n",
      "Prob(Omnibus):                  0.387   Jarque-Bera (JB):                1.399\n",
      "Skew:                           0.173   Prob(JB):                        0.497\n",
      "Kurtosis:                       3.386   Cond. No.                         6.46\n",
      "==============================================================================\n",
      "\n",
      "Notes:\n",
      "[1] Standard Errors assume that the covariance matrix of the errors is correctly specified.\n"
     ]
    }
   ],
   "source": [
    "print(result.summary())"
   ]
  }
 ],
 "metadata": {
  "kernelspec": {
   "display_name": "Python 3.10.2 64-bit",
   "language": "python",
   "name": "python3"
  },
  "language_info": {
   "codemirror_mode": {
    "name": "ipython",
    "version": 3
   },
   "file_extension": ".py",
   "mimetype": "text/x-python",
   "name": "python",
   "nbconvert_exporter": "python",
   "pygments_lexer": "ipython3",
   "version": "3.10.2"
  },
  "orig_nbformat": 4,
  "vscode": {
   "interpreter": {
    "hash": "c63d8c7d738c2960218a10995aedf0a7f67a49a231e71037adf0440953cdb45b"
   }
  }
 },
 "nbformat": 4,
 "nbformat_minor": 2
}
