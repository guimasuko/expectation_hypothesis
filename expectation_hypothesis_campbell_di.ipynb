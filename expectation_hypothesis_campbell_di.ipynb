{
 "cells": [
  {
   "cell_type": "markdown",
   "metadata": {},
   "source": [
    "## Campbell e Schiller (1991)"
   ]
  },
  {
   "cell_type": "markdown",
   "metadata": {},
   "source": [
    "Usando dados do Futuro DI"
   ]
  },
  {
   "cell_type": "code",
   "execution_count": 1,
   "metadata": {},
   "outputs": [],
   "source": [
    "import math\n",
    "import numpy as np\n",
    "import pandas as pd\n",
    "import matplotlib.pyplot as plt\n",
    "import statsmodels.formula.api as sm"
   ]
  },
  {
   "cell_type": "code",
   "execution_count": 2,
   "metadata": {},
   "outputs": [],
   "source": [
    "# mostra o dataframe inteiro\n",
    "# pd.set_option('display.max_rows', None)"
   ]
  },
  {
   "cell_type": "markdown",
   "metadata": {},
   "source": [
    "Para a base de dados, usaremos o futuro DI que funciona como uma proxy para o retorno das Letra do Tesouro Nacional (LTN). Isso porque o futuro DI é medido através da expectativa da taxa de juros livre de risco da economia, caracaterizada pelo título LTN do governo que representa um ativo livre de risco."
   ]
  },
  {
   "cell_type": "markdown",
   "metadata": {},
   "source": [
    "Os dados do futuro DI estão em periodicidade mensal, e abrangem todo o período a partir de Junho de 2012 até Outubro de 2022. Os dados foram obtidos através da Reuters cujo acesso é liberado pelo departamento de Economia da PUC-Rio."
   ]
  },
  {
   "cell_type": "code",
   "execution_count": 3,
   "metadata": {},
   "outputs": [],
   "source": [
    "futurodi = pd.read_csv('futuroDI.csv', sep=',', index_col=0)"
   ]
  },
  {
   "cell_type": "code",
   "execution_count": 4,
   "metadata": {},
   "outputs": [],
   "source": [
    "# função que torna o índice um objeto de data\n",
    "futurodi.index = pd.to_datetime(futurodi.index)"
   ]
  },
  {
   "cell_type": "code",
   "execution_count": 5,
   "metadata": {},
   "outputs": [],
   "source": [
    "# normalizando os dados que estavam em taxas para números decimais\n",
    "futurodi = futurodi/100"
   ]
  },
  {
   "cell_type": "code",
   "execution_count": 6,
   "metadata": {},
   "outputs": [],
   "source": [
    "# dropando colunas que não serão usadads\n",
    "futurodi = futurodi.drop(['BRPRE2Y=BMF', 'BRPRE3Y=BMF', 'BRPRE4Y=BMF', 'BRPRE5Y=BMF', 'BRPRE6Y=BMF', 'BRPRE7Y=BMF', 'BRPRE8Y=BMF', 'BRPRE9Y=BMF', 'BRPRE10Y=BMF'], axis = 1)"
   ]
  },
  {
   "cell_type": "code",
   "execution_count": 7,
   "metadata": {},
   "outputs": [
    {
     "data": {
      "text/html": [
       "<div>\n",
       "<style scoped>\n",
       "    .dataframe tbody tr th:only-of-type {\n",
       "        vertical-align: middle;\n",
       "    }\n",
       "\n",
       "    .dataframe tbody tr th {\n",
       "        vertical-align: top;\n",
       "    }\n",
       "\n",
       "    .dataframe thead th {\n",
       "        text-align: right;\n",
       "    }\n",
       "</style>\n",
       "<table border=\"1\" class=\"dataframe\">\n",
       "  <thead>\n",
       "    <tr style=\"text-align: right;\">\n",
       "      <th></th>\n",
       "      <th>BRPRE1M=BMF</th>\n",
       "      <th>BRPRE2M=BMF</th>\n",
       "      <th>BRPRE3M=BMF</th>\n",
       "      <th>BRPRE4M=BMF</th>\n",
       "      <th>BRPRE5M=BMF</th>\n",
       "      <th>BRPRE6M=BMF</th>\n",
       "      <th>BRPRE7M=BMF</th>\n",
       "      <th>BRPRE8M=BMF</th>\n",
       "      <th>BRPRE9M=BMF</th>\n",
       "      <th>BRPRE10M=BMF</th>\n",
       "      <th>BRPRE11M=BMF</th>\n",
       "      <th>BRPRE1Y=BMF</th>\n",
       "    </tr>\n",
       "  </thead>\n",
       "  <tbody>\n",
       "    <tr>\n",
       "      <th>2022-10-31</th>\n",
       "      <td>0.13659</td>\n",
       "      <td>0.13670</td>\n",
       "      <td>0.13688</td>\n",
       "      <td>0.136990</td>\n",
       "      <td>0.136990</td>\n",
       "      <td>0.13672</td>\n",
       "      <td>0.136560</td>\n",
       "      <td>0.136050</td>\n",
       "      <td>0.134820</td>\n",
       "      <td>0.133880</td>\n",
       "      <td>0.132860</td>\n",
       "      <td>0.13130</td>\n",
       "    </tr>\n",
       "    <tr>\n",
       "      <th>2022-09-30</th>\n",
       "      <td>0.13668</td>\n",
       "      <td>0.13682</td>\n",
       "      <td>0.13689</td>\n",
       "      <td>0.137620</td>\n",
       "      <td>0.136540</td>\n",
       "      <td>0.13688</td>\n",
       "      <td>0.136780</td>\n",
       "      <td>0.136080</td>\n",
       "      <td>0.135580</td>\n",
       "      <td>0.134800</td>\n",
       "      <td>0.133410</td>\n",
       "      <td>0.13245</td>\n",
       "    </tr>\n",
       "    <tr>\n",
       "      <th>2022-08-31</th>\n",
       "      <td>0.13673</td>\n",
       "      <td>0.13708</td>\n",
       "      <td>0.13743</td>\n",
       "      <td>0.137450</td>\n",
       "      <td>0.137540</td>\n",
       "      <td>0.13760</td>\n",
       "      <td>0.137490</td>\n",
       "      <td>0.137740</td>\n",
       "      <td>0.137380</td>\n",
       "      <td>0.136730</td>\n",
       "      <td>0.136130</td>\n",
       "      <td>0.13526</td>\n",
       "    </tr>\n",
       "    <tr>\n",
       "      <th>2022-07-31</th>\n",
       "      <td>0.13513</td>\n",
       "      <td>0.13619</td>\n",
       "      <td>0.13724</td>\n",
       "      <td>0.137960</td>\n",
       "      <td>0.138360</td>\n",
       "      <td>0.13879</td>\n",
       "      <td>0.138940</td>\n",
       "      <td>0.139150</td>\n",
       "      <td>0.139150</td>\n",
       "      <td>0.139160</td>\n",
       "      <td>0.138770</td>\n",
       "      <td>0.13823</td>\n",
       "    </tr>\n",
       "    <tr>\n",
       "      <th>2022-06-30</th>\n",
       "      <td>0.13144</td>\n",
       "      <td>0.13330</td>\n",
       "      <td>0.13479</td>\n",
       "      <td>0.135930</td>\n",
       "      <td>0.137010</td>\n",
       "      <td>0.13782</td>\n",
       "      <td>0.138770</td>\n",
       "      <td>0.139000</td>\n",
       "      <td>0.139230</td>\n",
       "      <td>0.139630</td>\n",
       "      <td>0.139710</td>\n",
       "      <td>0.13923</td>\n",
       "    </tr>\n",
       "    <tr>\n",
       "      <th>...</th>\n",
       "      <td>...</td>\n",
       "      <td>...</td>\n",
       "      <td>...</td>\n",
       "      <td>...</td>\n",
       "      <td>...</td>\n",
       "      <td>...</td>\n",
       "      <td>...</td>\n",
       "      <td>...</td>\n",
       "      <td>...</td>\n",
       "      <td>...</td>\n",
       "      <td>...</td>\n",
       "      <td>...</td>\n",
       "    </tr>\n",
       "    <tr>\n",
       "      <th>2012-10-31</th>\n",
       "      <td>0.07096</td>\n",
       "      <td>0.07099</td>\n",
       "      <td>0.07089</td>\n",
       "      <td>0.070720</td>\n",
       "      <td>0.071000</td>\n",
       "      <td>0.07116</td>\n",
       "      <td>0.071130</td>\n",
       "      <td>0.071230</td>\n",
       "      <td>0.071530</td>\n",
       "      <td>0.071840</td>\n",
       "      <td>0.072010</td>\n",
       "      <td>0.07252</td>\n",
       "    </tr>\n",
       "    <tr>\n",
       "      <th>2012-09-30</th>\n",
       "      <td>0.07293</td>\n",
       "      <td>0.07272</td>\n",
       "      <td>0.07257</td>\n",
       "      <td>0.072440</td>\n",
       "      <td>0.072470</td>\n",
       "      <td>0.07259</td>\n",
       "      <td>0.079137</td>\n",
       "      <td>0.080644</td>\n",
       "      <td>0.082187</td>\n",
       "      <td>0.083416</td>\n",
       "      <td>0.084623</td>\n",
       "      <td>0.07466</td>\n",
       "    </tr>\n",
       "    <tr>\n",
       "      <th>2012-08-31</th>\n",
       "      <td>0.07348</td>\n",
       "      <td>0.07308</td>\n",
       "      <td>0.07287</td>\n",
       "      <td>0.072650</td>\n",
       "      <td>0.072560</td>\n",
       "      <td>0.07259</td>\n",
       "      <td>0.077958</td>\n",
       "      <td>0.080215</td>\n",
       "      <td>0.081829</td>\n",
       "      <td>0.083180</td>\n",
       "      <td>0.084323</td>\n",
       "      <td>0.07468</td>\n",
       "    </tr>\n",
       "    <tr>\n",
       "      <th>2012-07-31</th>\n",
       "      <td>0.07806</td>\n",
       "      <td>0.07648</td>\n",
       "      <td>0.07511</td>\n",
       "      <td>0.074270</td>\n",
       "      <td>0.073770</td>\n",
       "      <td>0.07348</td>\n",
       "      <td>0.078232</td>\n",
       "      <td>0.080065</td>\n",
       "      <td>0.081631</td>\n",
       "      <td>0.082856</td>\n",
       "      <td>0.083541</td>\n",
       "      <td>0.07431</td>\n",
       "    </tr>\n",
       "    <tr>\n",
       "      <th>2012-06-30</th>\n",
       "      <td>0.08089</td>\n",
       "      <td>0.07979</td>\n",
       "      <td>0.07831</td>\n",
       "      <td>0.075624</td>\n",
       "      <td>0.075664</td>\n",
       "      <td>0.07638</td>\n",
       "      <td>0.078737</td>\n",
       "      <td>0.080244</td>\n",
       "      <td>0.081654</td>\n",
       "      <td>0.083421</td>\n",
       "      <td>0.084844</td>\n",
       "      <td>0.07580</td>\n",
       "    </tr>\n",
       "  </tbody>\n",
       "</table>\n",
       "<p>125 rows × 12 columns</p>\n",
       "</div>"
      ],
      "text/plain": [
       "            BRPRE1M=BMF  BRPRE2M=BMF  BRPRE3M=BMF  BRPRE4M=BMF  BRPRE5M=BMF  \\\n",
       "2022-10-31      0.13659      0.13670      0.13688     0.136990     0.136990   \n",
       "2022-09-30      0.13668      0.13682      0.13689     0.137620     0.136540   \n",
       "2022-08-31      0.13673      0.13708      0.13743     0.137450     0.137540   \n",
       "2022-07-31      0.13513      0.13619      0.13724     0.137960     0.138360   \n",
       "2022-06-30      0.13144      0.13330      0.13479     0.135930     0.137010   \n",
       "...                 ...          ...          ...          ...          ...   \n",
       "2012-10-31      0.07096      0.07099      0.07089     0.070720     0.071000   \n",
       "2012-09-30      0.07293      0.07272      0.07257     0.072440     0.072470   \n",
       "2012-08-31      0.07348      0.07308      0.07287     0.072650     0.072560   \n",
       "2012-07-31      0.07806      0.07648      0.07511     0.074270     0.073770   \n",
       "2012-06-30      0.08089      0.07979      0.07831     0.075624     0.075664   \n",
       "\n",
       "            BRPRE6M=BMF  BRPRE7M=BMF  BRPRE8M=BMF  BRPRE9M=BMF  BRPRE10M=BMF  \\\n",
       "2022-10-31      0.13672     0.136560     0.136050     0.134820      0.133880   \n",
       "2022-09-30      0.13688     0.136780     0.136080     0.135580      0.134800   \n",
       "2022-08-31      0.13760     0.137490     0.137740     0.137380      0.136730   \n",
       "2022-07-31      0.13879     0.138940     0.139150     0.139150      0.139160   \n",
       "2022-06-30      0.13782     0.138770     0.139000     0.139230      0.139630   \n",
       "...                 ...          ...          ...          ...           ...   \n",
       "2012-10-31      0.07116     0.071130     0.071230     0.071530      0.071840   \n",
       "2012-09-30      0.07259     0.079137     0.080644     0.082187      0.083416   \n",
       "2012-08-31      0.07259     0.077958     0.080215     0.081829      0.083180   \n",
       "2012-07-31      0.07348     0.078232     0.080065     0.081631      0.082856   \n",
       "2012-06-30      0.07638     0.078737     0.080244     0.081654      0.083421   \n",
       "\n",
       "            BRPRE11M=BMF  BRPRE1Y=BMF  \n",
       "2022-10-31      0.132860      0.13130  \n",
       "2022-09-30      0.133410      0.13245  \n",
       "2022-08-31      0.136130      0.13526  \n",
       "2022-07-31      0.138770      0.13823  \n",
       "2022-06-30      0.139710      0.13923  \n",
       "...                  ...          ...  \n",
       "2012-10-31      0.072010      0.07252  \n",
       "2012-09-30      0.084623      0.07466  \n",
       "2012-08-31      0.084323      0.07468  \n",
       "2012-07-31      0.083541      0.07431  \n",
       "2012-06-30      0.084844      0.07580  \n",
       "\n",
       "[125 rows x 12 columns]"
      ]
     },
     "execution_count": 7,
     "metadata": {},
     "output_type": "execute_result"
    }
   ],
   "source": [
    "futurodi"
   ]
  },
  {
   "cell_type": "markdown",
   "metadata": {},
   "source": [
    "A yield $y_t^{(n)}$ é o rendimento anualizado da LTN comprada em $t$ que paga R\\$1 em $t+n$. Como o futuro DI é uma proxy do retorno da LTN. Como $BRPREnM=BMF$ é o futuro DI anualizado entre $t$ e $t+n$, então temos que\n",
    "\n",
    "$$\n",
    "y_t^{(n)} = BRPREnM=BMF\n",
    "$$"
   ]
  },
  {
   "cell_type": "code",
   "execution_count": 8,
   "metadata": {},
   "outputs": [],
   "source": [
    "futurodi = futurodi.rename(columns={'BRPRE1M=BMF':'y_t(1)',\n",
    "                                    'BRPRE2M=BMF':'y_t(2)',\n",
    "                                    'BRPRE3M=BMF':'y_t(3)',\n",
    "                                    'BRPRE4M=BMF':'y_t(4)',\n",
    "                                    'BRPRE5M=BMF':'y_t(5)',\n",
    "                                    'BRPRE6M=BMF':'y_t(6)',\n",
    "                                    'BRPRE7M=BMF':'y_t(7)',\n",
    "                                    'BRPRE8M=BMF':'y_t(8)',\n",
    "                                    'BRPRE9M=BMF':'y_t(9)',\n",
    "                                    'BRPRE10M=BMF':'y_t(10)',\n",
    "                                    'BRPRE11M=BMF':'y_t(11)',\n",
    "                                    'BRPRE1Y=BMF':'y_t(12)'})"
   ]
  },
  {
   "cell_type": "markdown",
   "metadata": {},
   "source": [
    "Precisamos também definir $y_{t+1}^{(n-1)}$ como o retorno da LTN comprada em $t+1$ que paga R\\$1 em $t+1+(n-1) = t+n$"
   ]
  },
  {
   "cell_type": "code",
   "execution_count": 9,
   "metadata": {},
   "outputs": [],
   "source": [
    "futurodi['y_t+1(2-1)'] = futurodi['y_t(1)'].shift(1)\n",
    "futurodi['y_t+1(3-1)'] = futurodi['y_t(2)'].shift(1)\n",
    "futurodi['y_t+1(4-1)'] = futurodi['y_t(3)'].shift(1)\n",
    "futurodi['y_t+1(6-1)'] = futurodi['y_t(5)'].shift(1)\n",
    "futurodi['y_t+1(9-1)'] = futurodi['y_t(8)'].shift(1)\n",
    "futurodi['y_t+1(12-1)'] = futurodi['y_t(11)'].shift(1)"
   ]
  },
  {
   "cell_type": "code",
   "execution_count": 10,
   "metadata": {},
   "outputs": [
    {
     "data": {
      "text/html": [
       "<div>\n",
       "<style scoped>\n",
       "    .dataframe tbody tr th:only-of-type {\n",
       "        vertical-align: middle;\n",
       "    }\n",
       "\n",
       "    .dataframe tbody tr th {\n",
       "        vertical-align: top;\n",
       "    }\n",
       "\n",
       "    .dataframe thead th {\n",
       "        text-align: right;\n",
       "    }\n",
       "</style>\n",
       "<table border=\"1\" class=\"dataframe\">\n",
       "  <thead>\n",
       "    <tr style=\"text-align: right;\">\n",
       "      <th></th>\n",
       "      <th>y_t(1)</th>\n",
       "      <th>y_t(2)</th>\n",
       "      <th>y_t(3)</th>\n",
       "      <th>y_t(4)</th>\n",
       "      <th>y_t(5)</th>\n",
       "      <th>y_t(6)</th>\n",
       "      <th>y_t(7)</th>\n",
       "      <th>y_t(8)</th>\n",
       "      <th>y_t(9)</th>\n",
       "      <th>y_t(10)</th>\n",
       "      <th>y_t(11)</th>\n",
       "      <th>y_t(12)</th>\n",
       "      <th>y_t+1(2-1)</th>\n",
       "      <th>y_t+1(3-1)</th>\n",
       "      <th>y_t+1(4-1)</th>\n",
       "      <th>y_t+1(6-1)</th>\n",
       "      <th>y_t+1(9-1)</th>\n",
       "      <th>y_t+1(12-1)</th>\n",
       "    </tr>\n",
       "  </thead>\n",
       "  <tbody>\n",
       "    <tr>\n",
       "      <th>2022-10-31</th>\n",
       "      <td>0.13659</td>\n",
       "      <td>0.13670</td>\n",
       "      <td>0.13688</td>\n",
       "      <td>0.136990</td>\n",
       "      <td>0.136990</td>\n",
       "      <td>0.13672</td>\n",
       "      <td>0.136560</td>\n",
       "      <td>0.136050</td>\n",
       "      <td>0.134820</td>\n",
       "      <td>0.133880</td>\n",
       "      <td>0.132860</td>\n",
       "      <td>0.13130</td>\n",
       "      <td>NaN</td>\n",
       "      <td>NaN</td>\n",
       "      <td>NaN</td>\n",
       "      <td>NaN</td>\n",
       "      <td>NaN</td>\n",
       "      <td>NaN</td>\n",
       "    </tr>\n",
       "    <tr>\n",
       "      <th>2022-09-30</th>\n",
       "      <td>0.13668</td>\n",
       "      <td>0.13682</td>\n",
       "      <td>0.13689</td>\n",
       "      <td>0.137620</td>\n",
       "      <td>0.136540</td>\n",
       "      <td>0.13688</td>\n",
       "      <td>0.136780</td>\n",
       "      <td>0.136080</td>\n",
       "      <td>0.135580</td>\n",
       "      <td>0.134800</td>\n",
       "      <td>0.133410</td>\n",
       "      <td>0.13245</td>\n",
       "      <td>0.13659</td>\n",
       "      <td>0.13670</td>\n",
       "      <td>0.13688</td>\n",
       "      <td>0.13699</td>\n",
       "      <td>0.136050</td>\n",
       "      <td>0.132860</td>\n",
       "    </tr>\n",
       "    <tr>\n",
       "      <th>2022-08-31</th>\n",
       "      <td>0.13673</td>\n",
       "      <td>0.13708</td>\n",
       "      <td>0.13743</td>\n",
       "      <td>0.137450</td>\n",
       "      <td>0.137540</td>\n",
       "      <td>0.13760</td>\n",
       "      <td>0.137490</td>\n",
       "      <td>0.137740</td>\n",
       "      <td>0.137380</td>\n",
       "      <td>0.136730</td>\n",
       "      <td>0.136130</td>\n",
       "      <td>0.13526</td>\n",
       "      <td>0.13668</td>\n",
       "      <td>0.13682</td>\n",
       "      <td>0.13689</td>\n",
       "      <td>0.13654</td>\n",
       "      <td>0.136080</td>\n",
       "      <td>0.133410</td>\n",
       "    </tr>\n",
       "    <tr>\n",
       "      <th>2022-07-31</th>\n",
       "      <td>0.13513</td>\n",
       "      <td>0.13619</td>\n",
       "      <td>0.13724</td>\n",
       "      <td>0.137960</td>\n",
       "      <td>0.138360</td>\n",
       "      <td>0.13879</td>\n",
       "      <td>0.138940</td>\n",
       "      <td>0.139150</td>\n",
       "      <td>0.139150</td>\n",
       "      <td>0.139160</td>\n",
       "      <td>0.138770</td>\n",
       "      <td>0.13823</td>\n",
       "      <td>0.13673</td>\n",
       "      <td>0.13708</td>\n",
       "      <td>0.13743</td>\n",
       "      <td>0.13754</td>\n",
       "      <td>0.137740</td>\n",
       "      <td>0.136130</td>\n",
       "    </tr>\n",
       "    <tr>\n",
       "      <th>2022-06-30</th>\n",
       "      <td>0.13144</td>\n",
       "      <td>0.13330</td>\n",
       "      <td>0.13479</td>\n",
       "      <td>0.135930</td>\n",
       "      <td>0.137010</td>\n",
       "      <td>0.13782</td>\n",
       "      <td>0.138770</td>\n",
       "      <td>0.139000</td>\n",
       "      <td>0.139230</td>\n",
       "      <td>0.139630</td>\n",
       "      <td>0.139710</td>\n",
       "      <td>0.13923</td>\n",
       "      <td>0.13513</td>\n",
       "      <td>0.13619</td>\n",
       "      <td>0.13724</td>\n",
       "      <td>0.13836</td>\n",
       "      <td>0.139150</td>\n",
       "      <td>0.138770</td>\n",
       "    </tr>\n",
       "    <tr>\n",
       "      <th>...</th>\n",
       "      <td>...</td>\n",
       "      <td>...</td>\n",
       "      <td>...</td>\n",
       "      <td>...</td>\n",
       "      <td>...</td>\n",
       "      <td>...</td>\n",
       "      <td>...</td>\n",
       "      <td>...</td>\n",
       "      <td>...</td>\n",
       "      <td>...</td>\n",
       "      <td>...</td>\n",
       "      <td>...</td>\n",
       "      <td>...</td>\n",
       "      <td>...</td>\n",
       "      <td>...</td>\n",
       "      <td>...</td>\n",
       "      <td>...</td>\n",
       "      <td>...</td>\n",
       "    </tr>\n",
       "    <tr>\n",
       "      <th>2012-10-31</th>\n",
       "      <td>0.07096</td>\n",
       "      <td>0.07099</td>\n",
       "      <td>0.07089</td>\n",
       "      <td>0.070720</td>\n",
       "      <td>0.071000</td>\n",
       "      <td>0.07116</td>\n",
       "      <td>0.071130</td>\n",
       "      <td>0.071230</td>\n",
       "      <td>0.071530</td>\n",
       "      <td>0.071840</td>\n",
       "      <td>0.072010</td>\n",
       "      <td>0.07252</td>\n",
       "      <td>0.07089</td>\n",
       "      <td>0.07057</td>\n",
       "      <td>0.07044</td>\n",
       "      <td>0.07047</td>\n",
       "      <td>0.070620</td>\n",
       "      <td>0.071210</td>\n",
       "    </tr>\n",
       "    <tr>\n",
       "      <th>2012-09-30</th>\n",
       "      <td>0.07293</td>\n",
       "      <td>0.07272</td>\n",
       "      <td>0.07257</td>\n",
       "      <td>0.072440</td>\n",
       "      <td>0.072470</td>\n",
       "      <td>0.07259</td>\n",
       "      <td>0.079137</td>\n",
       "      <td>0.080644</td>\n",
       "      <td>0.082187</td>\n",
       "      <td>0.083416</td>\n",
       "      <td>0.084623</td>\n",
       "      <td>0.07466</td>\n",
       "      <td>0.07096</td>\n",
       "      <td>0.07099</td>\n",
       "      <td>0.07089</td>\n",
       "      <td>0.07100</td>\n",
       "      <td>0.071230</td>\n",
       "      <td>0.072010</td>\n",
       "    </tr>\n",
       "    <tr>\n",
       "      <th>2012-08-31</th>\n",
       "      <td>0.07348</td>\n",
       "      <td>0.07308</td>\n",
       "      <td>0.07287</td>\n",
       "      <td>0.072650</td>\n",
       "      <td>0.072560</td>\n",
       "      <td>0.07259</td>\n",
       "      <td>0.077958</td>\n",
       "      <td>0.080215</td>\n",
       "      <td>0.081829</td>\n",
       "      <td>0.083180</td>\n",
       "      <td>0.084323</td>\n",
       "      <td>0.07468</td>\n",
       "      <td>0.07293</td>\n",
       "      <td>0.07272</td>\n",
       "      <td>0.07257</td>\n",
       "      <td>0.07247</td>\n",
       "      <td>0.080644</td>\n",
       "      <td>0.084623</td>\n",
       "    </tr>\n",
       "    <tr>\n",
       "      <th>2012-07-31</th>\n",
       "      <td>0.07806</td>\n",
       "      <td>0.07648</td>\n",
       "      <td>0.07511</td>\n",
       "      <td>0.074270</td>\n",
       "      <td>0.073770</td>\n",
       "      <td>0.07348</td>\n",
       "      <td>0.078232</td>\n",
       "      <td>0.080065</td>\n",
       "      <td>0.081631</td>\n",
       "      <td>0.082856</td>\n",
       "      <td>0.083541</td>\n",
       "      <td>0.07431</td>\n",
       "      <td>0.07348</td>\n",
       "      <td>0.07308</td>\n",
       "      <td>0.07287</td>\n",
       "      <td>0.07256</td>\n",
       "      <td>0.080215</td>\n",
       "      <td>0.084323</td>\n",
       "    </tr>\n",
       "    <tr>\n",
       "      <th>2012-06-30</th>\n",
       "      <td>0.08089</td>\n",
       "      <td>0.07979</td>\n",
       "      <td>0.07831</td>\n",
       "      <td>0.075624</td>\n",
       "      <td>0.075664</td>\n",
       "      <td>0.07638</td>\n",
       "      <td>0.078737</td>\n",
       "      <td>0.080244</td>\n",
       "      <td>0.081654</td>\n",
       "      <td>0.083421</td>\n",
       "      <td>0.084844</td>\n",
       "      <td>0.07580</td>\n",
       "      <td>0.07806</td>\n",
       "      <td>0.07648</td>\n",
       "      <td>0.07511</td>\n",
       "      <td>0.07377</td>\n",
       "      <td>0.080065</td>\n",
       "      <td>0.083541</td>\n",
       "    </tr>\n",
       "  </tbody>\n",
       "</table>\n",
       "<p>125 rows × 18 columns</p>\n",
       "</div>"
      ],
      "text/plain": [
       "             y_t(1)   y_t(2)   y_t(3)    y_t(4)    y_t(5)   y_t(6)    y_t(7)  \\\n",
       "2022-10-31  0.13659  0.13670  0.13688  0.136990  0.136990  0.13672  0.136560   \n",
       "2022-09-30  0.13668  0.13682  0.13689  0.137620  0.136540  0.13688  0.136780   \n",
       "2022-08-31  0.13673  0.13708  0.13743  0.137450  0.137540  0.13760  0.137490   \n",
       "2022-07-31  0.13513  0.13619  0.13724  0.137960  0.138360  0.13879  0.138940   \n",
       "2022-06-30  0.13144  0.13330  0.13479  0.135930  0.137010  0.13782  0.138770   \n",
       "...             ...      ...      ...       ...       ...      ...       ...   \n",
       "2012-10-31  0.07096  0.07099  0.07089  0.070720  0.071000  0.07116  0.071130   \n",
       "2012-09-30  0.07293  0.07272  0.07257  0.072440  0.072470  0.07259  0.079137   \n",
       "2012-08-31  0.07348  0.07308  0.07287  0.072650  0.072560  0.07259  0.077958   \n",
       "2012-07-31  0.07806  0.07648  0.07511  0.074270  0.073770  0.07348  0.078232   \n",
       "2012-06-30  0.08089  0.07979  0.07831  0.075624  0.075664  0.07638  0.078737   \n",
       "\n",
       "              y_t(8)    y_t(9)   y_t(10)   y_t(11)  y_t(12)  y_t+1(2-1)  \\\n",
       "2022-10-31  0.136050  0.134820  0.133880  0.132860  0.13130         NaN   \n",
       "2022-09-30  0.136080  0.135580  0.134800  0.133410  0.13245     0.13659   \n",
       "2022-08-31  0.137740  0.137380  0.136730  0.136130  0.13526     0.13668   \n",
       "2022-07-31  0.139150  0.139150  0.139160  0.138770  0.13823     0.13673   \n",
       "2022-06-30  0.139000  0.139230  0.139630  0.139710  0.13923     0.13513   \n",
       "...              ...       ...       ...       ...      ...         ...   \n",
       "2012-10-31  0.071230  0.071530  0.071840  0.072010  0.07252     0.07089   \n",
       "2012-09-30  0.080644  0.082187  0.083416  0.084623  0.07466     0.07096   \n",
       "2012-08-31  0.080215  0.081829  0.083180  0.084323  0.07468     0.07293   \n",
       "2012-07-31  0.080065  0.081631  0.082856  0.083541  0.07431     0.07348   \n",
       "2012-06-30  0.080244  0.081654  0.083421  0.084844  0.07580     0.07806   \n",
       "\n",
       "            y_t+1(3-1)  y_t+1(4-1)  y_t+1(6-1)  y_t+1(9-1)  y_t+1(12-1)  \n",
       "2022-10-31         NaN         NaN         NaN         NaN          NaN  \n",
       "2022-09-30     0.13670     0.13688     0.13699    0.136050     0.132860  \n",
       "2022-08-31     0.13682     0.13689     0.13654    0.136080     0.133410  \n",
       "2022-07-31     0.13708     0.13743     0.13754    0.137740     0.136130  \n",
       "2022-06-30     0.13619     0.13724     0.13836    0.139150     0.138770  \n",
       "...                ...         ...         ...         ...          ...  \n",
       "2012-10-31     0.07057     0.07044     0.07047    0.070620     0.071210  \n",
       "2012-09-30     0.07099     0.07089     0.07100    0.071230     0.072010  \n",
       "2012-08-31     0.07272     0.07257     0.07247    0.080644     0.084623  \n",
       "2012-07-31     0.07308     0.07287     0.07256    0.080215     0.084323  \n",
       "2012-06-30     0.07648     0.07511     0.07377    0.080065     0.083541  \n",
       "\n",
       "[125 rows x 18 columns]"
      ]
     },
     "execution_count": 10,
     "metadata": {},
     "output_type": "execute_result"
    }
   ],
   "source": [
    "futurodi"
   ]
  },
  {
   "cell_type": "markdown",
   "metadata": {},
   "source": [
    "Defina \n",
    "\n",
    "$$\n",
    "s_t^{(n)} = y_t^{(n)} - y_t^{(1)}\n",
    "$$"
   ]
  },
  {
   "cell_type": "code",
   "execution_count": 11,
   "metadata": {},
   "outputs": [],
   "source": [
    "futurodi['s_t(2)'] = futurodi['y_t(2)'] - futurodi['y_t(1)']\n",
    "futurodi['s_t(3)'] = futurodi['y_t(3)'] - futurodi['y_t(1)']\n",
    "futurodi['s_t(4)'] = futurodi['y_t(4)'] - futurodi['y_t(1)']\n",
    "futurodi['s_t(6)'] = futurodi['y_t(6)'] - futurodi['y_t(1)']\n",
    "futurodi['s_t(9)'] = futurodi['y_t(9)'] - futurodi['y_t(1)']\n",
    "futurodi['s_t(12)'] = futurodi['y_t(12)'] - futurodi['y_t(1)']"
   ]
  },
  {
   "cell_type": "markdown",
   "metadata": {},
   "source": [
    "O primeiro modelo de Campbell e Schiller (1991) é mostrado a seguir\n",
    "\n",
    "$$\n",
    "y_{t+1}^{(n-1)} - y_t^{(n)} = \\alpha_n + \\beta_n \\frac{s_t^{(n)}}{n-1} + \\epsilon_t^{(n)}\n",
    "$$"
   ]
  },
  {
   "cell_type": "markdown",
   "metadata": {},
   "source": [
    "onde $n \\in \\{2,3,4,6,9,12\\}$"
   ]
  },
  {
   "cell_type": "code",
   "execution_count": 12,
   "metadata": {},
   "outputs": [],
   "source": [
    "futurodi['y'] = futurodi['y_t+1(2-1)'] - futurodi['y_t(2)']\n",
    "futurodi['x'] = futurodi['s_t(2)']\n",
    "result = sm.ols(formula=\"y ~ x\", data=futurodi).fit()"
   ]
  },
  {
   "cell_type": "markdown",
   "metadata": {},
   "source": [
    "Para $n = 2$, a regressão é\n",
    "\n",
    "$$\n",
    "y_{t+1}^{(1)} - y_t^{(2)} = \\alpha_2 + \\beta_2 s_t^{(2)} + \\epsilon_t^{(2)}\n",
    "$$"
   ]
  },
  {
   "cell_type": "code",
   "execution_count": 13,
   "metadata": {},
   "outputs": [
    {
     "name": "stdout",
     "output_type": "stream",
     "text": [
      "                            OLS Regression Results                            \n",
      "==============================================================================\n",
      "Dep. Variable:                      y   R-squared:                       0.636\n",
      "Model:                            OLS   Adj. R-squared:                  0.633\n",
      "Method:                 Least Squares   F-statistic:                     213.2\n",
      "Date:                Fri, 21 Oct 2022   Prob (F-statistic):           1.52e-28\n",
      "Time:                        19:45:03   Log-Likelihood:                 644.40\n",
      "No. Observations:                 124   AIC:                            -1285.\n",
      "Df Residuals:                     122   BIC:                            -1279.\n",
      "Df Model:                           1                                         \n",
      "Covariance Type:            nonrobust                                         \n",
      "==============================================================================\n",
      "                 coef    std err          t      P>|t|      [0.025      0.975]\n",
      "------------------------------------------------------------------------------\n",
      "Intercept     -0.0003      0.000     -2.419      0.017      -0.001   -5.44e-05\n",
      "x              0.9835      0.067     14.600      0.000       0.850       1.117\n",
      "==============================================================================\n",
      "Omnibus:                       25.368   Durbin-Watson:                   1.936\n",
      "Prob(Omnibus):                  0.000   Jarque-Bera (JB):              180.380\n",
      "Skew:                          -0.224   Prob(JB):                     6.78e-40\n",
      "Kurtosis:                       8.892   Cond. No.                         556.\n",
      "==============================================================================\n",
      "\n",
      "Notes:\n",
      "[1] Standard Errors assume that the covariance matrix of the errors is correctly specified.\n"
     ]
    }
   ],
   "source": [
    "print(result.summary())"
   ]
  },
  {
   "cell_type": "code",
   "execution_count": 14,
   "metadata": {},
   "outputs": [],
   "source": [
    "futurodi['y'] = futurodi['y_t+1(3-1)'] - futurodi['y_t(3)']\n",
    "futurodi['x'] = futurodi['s_t(3)']/2\n",
    "result = sm.ols(formula=\"y ~ x\", data=futurodi).fit()"
   ]
  },
  {
   "cell_type": "markdown",
   "metadata": {},
   "source": [
    "Para $n = 3$, a regressão é\n",
    "\n",
    "$$\n",
    "y_{t+1}^{(2)} - y_t^{(3)} = \\alpha_3 + \\beta_3 \\frac{s_t^{(3)}}{2} + \\epsilon_t^{(3)}\n",
    "$$"
   ]
  },
  {
   "cell_type": "code",
   "execution_count": 15,
   "metadata": {},
   "outputs": [
    {
     "name": "stdout",
     "output_type": "stream",
     "text": [
      "                            OLS Regression Results                            \n",
      "==============================================================================\n",
      "Dep. Variable:                      y   R-squared:                       0.473\n",
      "Model:                            OLS   Adj. R-squared:                  0.469\n",
      "Method:                 Least Squares   F-statistic:                     109.5\n",
      "Date:                Fri, 21 Oct 2022   Prob (F-statistic):           1.11e-18\n",
      "Time:                        19:45:03   Log-Likelihood:                 603.80\n",
      "No. Observations:                 124   AIC:                            -1204.\n",
      "Df Residuals:                     122   BIC:                            -1198.\n",
      "Df Model:                           1                                         \n",
      "Covariance Type:            nonrobust                                         \n",
      "==============================================================================\n",
      "                 coef    std err          t      P>|t|      [0.025      0.975]\n",
      "------------------------------------------------------------------------------\n",
      "Intercept     -0.0005      0.000     -2.832      0.005      -0.001      -0.000\n",
      "x              1.0437      0.100     10.465      0.000       0.846       1.241\n",
      "==============================================================================\n",
      "Omnibus:                       31.186   Durbin-Watson:                   2.000\n",
      "Prob(Omnibus):                  0.000   Jarque-Bera (JB):              185.078\n",
      "Skew:                          -0.590   Prob(JB):                     6.47e-41\n",
      "Kurtosis:                       8.868   Cond. No.                         593.\n",
      "==============================================================================\n",
      "\n",
      "Notes:\n",
      "[1] Standard Errors assume that the covariance matrix of the errors is correctly specified.\n"
     ]
    }
   ],
   "source": [
    "print(result.summary())"
   ]
  },
  {
   "cell_type": "code",
   "execution_count": 16,
   "metadata": {},
   "outputs": [],
   "source": [
    "futurodi['y'] = futurodi['y_t+1(4-1)'] - futurodi['y_t(4)']\n",
    "futurodi['x'] = futurodi['s_t(4)']/3\n",
    "result = sm.ols(formula=\"y ~ x\", data=futurodi).fit()"
   ]
  },
  {
   "cell_type": "markdown",
   "metadata": {},
   "source": [
    "Para $n = 4$, a regressão é\n",
    "\n",
    "$$\n",
    "y_{t+1}^{(3)} - y_t^{(4)} = \\alpha_4 + \\beta_4 \\frac{s_t^{(4)}}{3} + \\epsilon_t^{(4)}\n",
    "$$"
   ]
  },
  {
   "cell_type": "code",
   "execution_count": 17,
   "metadata": {},
   "outputs": [
    {
     "name": "stdout",
     "output_type": "stream",
     "text": [
      "                            OLS Regression Results                            \n",
      "==============================================================================\n",
      "Dep. Variable:                      y   R-squared:                       0.338\n",
      "Model:                            OLS   Adj. R-squared:                  0.332\n",
      "Method:                 Least Squares   F-statistic:                     62.21\n",
      "Date:                Fri, 21 Oct 2022   Prob (F-statistic):           1.48e-12\n",
      "Time:                        19:45:04   Log-Likelihood:                 575.28\n",
      "No. Observations:                 124   AIC:                            -1147.\n",
      "Df Residuals:                     122   BIC:                            -1141.\n",
      "Df Model:                           1                                         \n",
      "Covariance Type:            nonrobust                                         \n",
      "==============================================================================\n",
      "                 coef    std err          t      P>|t|      [0.025      0.975]\n",
      "------------------------------------------------------------------------------\n",
      "Intercept     -0.0004      0.000     -1.954      0.053      -0.001    5.62e-06\n",
      "x              1.0263      0.130      7.887      0.000       0.769       1.284\n",
      "==============================================================================\n",
      "Omnibus:                       16.843   Durbin-Watson:                   2.093\n",
      "Prob(Omnibus):                  0.000   Jarque-Bera (JB):               68.918\n",
      "Skew:                          -0.124   Prob(JB):                     1.08e-15\n",
      "Kurtosis:                       6.644   Cond. No.                         615.\n",
      "==============================================================================\n",
      "\n",
      "Notes:\n",
      "[1] Standard Errors assume that the covariance matrix of the errors is correctly specified.\n"
     ]
    }
   ],
   "source": [
    "print(result.summary())"
   ]
  },
  {
   "cell_type": "code",
   "execution_count": 18,
   "metadata": {},
   "outputs": [],
   "source": [
    "futurodi['y'] = futurodi['y_t+1(6-1)'] - futurodi['y_t(6)']\n",
    "futurodi['x'] = futurodi['s_t(6)']/5\n",
    "result = sm.ols(formula=\"y ~ x\", data=futurodi).fit()"
   ]
  },
  {
   "cell_type": "markdown",
   "metadata": {},
   "source": [
    "Para $n = 6$, a regressão é\n",
    "\n",
    "$$\n",
    "y_{t+1}^{(5)} - y_t^{(6)} = \\alpha_6 + \\beta_6 \\frac{s_t^{(6)}}{5} + \\epsilon_t^{(6)}\n",
    "$$"
   ]
  },
  {
   "cell_type": "code",
   "execution_count": 19,
   "metadata": {},
   "outputs": [
    {
     "name": "stdout",
     "output_type": "stream",
     "text": [
      "                            OLS Regression Results                            \n",
      "==============================================================================\n",
      "Dep. Variable:                      y   R-squared:                       0.254\n",
      "Model:                            OLS   Adj. R-squared:                  0.248\n",
      "Method:                 Least Squares   F-statistic:                     41.46\n",
      "Date:                Fri, 21 Oct 2022   Prob (F-statistic):           2.48e-09\n",
      "Time:                        19:45:04   Log-Likelihood:                 535.69\n",
      "No. Observations:                 124   AIC:                            -1067.\n",
      "Df Residuals:                     122   BIC:                            -1062.\n",
      "Df Model:                           1                                         \n",
      "Covariance Type:            nonrobust                                         \n",
      "==============================================================================\n",
      "                 coef    std err          t      P>|t|      [0.025      0.975]\n",
      "------------------------------------------------------------------------------\n",
      "Intercept     -0.0005      0.000     -1.629      0.106      -0.001       0.000\n",
      "x              1.3043      0.203      6.439      0.000       0.903       1.705\n",
      "==============================================================================\n",
      "Omnibus:                       29.556   Durbin-Watson:                   2.133\n",
      "Prob(Omnibus):                  0.000   Jarque-Bera (JB):              174.512\n",
      "Skew:                           0.533   Prob(JB):                     1.27e-38\n",
      "Kurtosis:                       8.713   Cond. No.                         695.\n",
      "==============================================================================\n",
      "\n",
      "Notes:\n",
      "[1] Standard Errors assume that the covariance matrix of the errors is correctly specified.\n"
     ]
    }
   ],
   "source": [
    "print(result.summary())"
   ]
  },
  {
   "cell_type": "code",
   "execution_count": 20,
   "metadata": {},
   "outputs": [],
   "source": [
    "futurodi['y'] = futurodi['y_t+1(9-1)'] - futurodi['y_t(9)']\n",
    "futurodi['x'] = futurodi['s_t(9)']/8\n",
    "result = sm.ols(formula=\"y ~ x\", data=futurodi).fit()"
   ]
  },
  {
   "cell_type": "markdown",
   "metadata": {},
   "source": [
    "Para $n = 9$, a regressão é\n",
    "\n",
    "$$\n",
    "y_{t+1}^{(8)} - y_t^{(9)} = \\alpha_9 + \\beta_9 \\frac{s_t^{(9)}}{8} + \\epsilon_t^{(9)}\n",
    "$$"
   ]
  },
  {
   "cell_type": "code",
   "execution_count": 21,
   "metadata": {},
   "outputs": [
    {
     "name": "stdout",
     "output_type": "stream",
     "text": [
      "                            OLS Regression Results                            \n",
      "==============================================================================\n",
      "Dep. Variable:                      y   R-squared:                       0.137\n",
      "Model:                            OLS   Adj. R-squared:                  0.130\n",
      "Method:                 Least Squares   F-statistic:                     19.34\n",
      "Date:                Fri, 21 Oct 2022   Prob (F-statistic):           2.35e-05\n",
      "Time:                        19:45:04   Log-Likelihood:                 493.43\n",
      "No. Observations:                 124   AIC:                            -982.9\n",
      "Df Residuals:                     122   BIC:                            -977.2\n",
      "Df Model:                           1                                         \n",
      "Covariance Type:            nonrobust                                         \n",
      "==============================================================================\n",
      "                 coef    std err          t      P>|t|      [0.025      0.975]\n",
      "------------------------------------------------------------------------------\n",
      "Intercept     -0.0006      0.000     -1.390      0.167      -0.001       0.000\n",
      "x              1.4995      0.341      4.398      0.000       0.825       2.174\n",
      "==============================================================================\n",
      "Omnibus:                       40.812   Durbin-Watson:                   2.058\n",
      "Prob(Omnibus):                  0.000   Jarque-Bera (JB):              240.930\n",
      "Skew:                           0.909   Prob(JB):                     4.82e-53\n",
      "Kurtosis:                       9.582   Cond. No.                         832.\n",
      "==============================================================================\n",
      "\n",
      "Notes:\n",
      "[1] Standard Errors assume that the covariance matrix of the errors is correctly specified.\n"
     ]
    }
   ],
   "source": [
    "print(result.summary())"
   ]
  },
  {
   "cell_type": "code",
   "execution_count": 22,
   "metadata": {},
   "outputs": [],
   "source": [
    "futurodi['y'] = futurodi['y_t+1(12-1)'] - futurodi['y_t(12)']\n",
    "futurodi['x'] = futurodi['s_t(12)']/11\n",
    "result = sm.ols(formula=\"y ~ x\", data=futurodi).fit()"
   ]
  },
  {
   "cell_type": "markdown",
   "metadata": {},
   "source": [
    "Para $n = 12$, a regressão é\n",
    "\n",
    "$$\n",
    "y_{t+1}^{(11)} - y_t^{(12)} = \\alpha_{12} + \\beta_{12} \\frac{s_t^{(12)}}{11} + \\epsilon_t^{(12)}\n",
    "$$"
   ]
  },
  {
   "cell_type": "code",
   "execution_count": 23,
   "metadata": {},
   "outputs": [
    {
     "name": "stdout",
     "output_type": "stream",
     "text": [
      "                            OLS Regression Results                            \n",
      "==============================================================================\n",
      "Dep. Variable:                      y   R-squared:                       0.098\n",
      "Model:                            OLS   Adj. R-squared:                  0.091\n",
      "Method:                 Least Squares   F-statistic:                     13.26\n",
      "Date:                Fri, 21 Oct 2022   Prob (F-statistic):           0.000400\n",
      "Time:                        19:45:04   Log-Likelihood:                 475.50\n",
      "No. Observations:                 124   AIC:                            -947.0\n",
      "Df Residuals:                     122   BIC:                            -941.4\n",
      "Df Model:                           1                                         \n",
      "Covariance Type:            nonrobust                                         \n",
      "==============================================================================\n",
      "                 coef    std err          t      P>|t|      [0.025      0.975]\n",
      "------------------------------------------------------------------------------\n",
      "Intercept     -0.0002      0.001     -0.370      0.712      -0.001       0.001\n",
      "x              1.7064      0.469      3.641      0.000       0.779       2.634\n",
      "==============================================================================\n",
      "Omnibus:                       44.724   Durbin-Watson:                   1.832\n",
      "Prob(Omnibus):                  0.000   Jarque-Bera (JB):              186.291\n",
      "Skew:                           1.175   Prob(JB):                     3.53e-41\n",
      "Kurtosis:                       8.526   Cond. No.                         990.\n",
      "==============================================================================\n",
      "\n",
      "Notes:\n",
      "[1] Standard Errors assume that the covariance matrix of the errors is correctly specified.\n"
     ]
    }
   ],
   "source": [
    "print(result.summary())"
   ]
  },
  {
   "cell_type": "markdown",
   "metadata": {},
   "source": [
    "O segundo modelo é\n",
    "\n",
    "$$\n",
    "\\sum_{i=1}^{n} \\left(1 - \\frac{i}{n}\\right)\\Delta y_{t+i}^{(1)} = \\alpha + \\beta[y_t^{(n)} - y_t^{(1)}] + v_t^{(n)}\n",
    "$$"
   ]
  },
  {
   "cell_type": "markdown",
   "metadata": {},
   "source": [
    "onde $n \\in \\{2,3,4,6,9,12\\}$"
   ]
  },
  {
   "cell_type": "markdown",
   "metadata": {},
   "source": [
    "Precisamos então de mais algumas yields. Defina $y_{t+i}^{(1)}$ como o retorno da LTN comprada em $t+i$ que paga R\\$1 em $t+i+1$"
   ]
  },
  {
   "cell_type": "code",
   "execution_count": 24,
   "metadata": {},
   "outputs": [],
   "source": [
    "futurodi['y_t+2(1)'] = futurodi['y_t(1)'].shift(2)\n",
    "futurodi['y_t+3(1)'] = futurodi['y_t(1)'].shift(3)\n",
    "futurodi['y_t+4(1)'] = futurodi['y_t(1)'].shift(4)\n",
    "futurodi['y_t+5(1)'] = futurodi['y_t(1)'].shift(5)\n",
    "futurodi['y_t+6(1)'] = futurodi['y_t(1)'].shift(6)\n",
    "futurodi['y_t+7(1)'] = futurodi['y_t(1)'].shift(7)\n",
    "futurodi['y_t+8(1)'] = futurodi['y_t(1)'].shift(8)\n",
    "futurodi['y_t+9(1)'] = futurodi['y_t(1)'].shift(9)\n",
    "futurodi['y_t+10(1)'] = futurodi['y_t(1)'].shift(10)\n",
    "futurodi['y_t+11(1)'] = futurodi['y_t(1)'].shift(11)"
   ]
  },
  {
   "cell_type": "code",
   "execution_count": 25,
   "metadata": {},
   "outputs": [],
   "source": [
    "futurodi['y'] = (1/2)*(futurodi['y_t+1(2-1)'] - futurodi['y_t(1)'])\n",
    "futurodi['x'] = futurodi['s_t(2)']\n",
    "result = sm.ols(formula=\"y ~ x\", data=futurodi).fit()"
   ]
  },
  {
   "cell_type": "markdown",
   "metadata": {},
   "source": [
    "Para $n=2$, a regressão é\n",
    "\n",
    "$$\n",
    "\\sum_{i=1}^{2} \\left(1 - \\frac{i}{2}\\right)\\Delta y_{t+i}^{(1)} = \\alpha + \\beta[y_t^{(2)} - y_t^{(1)}] + v_t^{(2)}\n",
    "$$\n",
    "\n",
    "$$\n",
    "\\frac{1}{2}\\left(y_{t+1}^{(1)} - y_{t}^{(1)}\\right) = \\alpha + \\beta[y_t^{(2)} - y_t^{(1)}] + v_t^{(2)}\n",
    "$$"
   ]
  },
  {
   "cell_type": "code",
   "execution_count": 26,
   "metadata": {},
   "outputs": [
    {
     "name": "stdout",
     "output_type": "stream",
     "text": [
      "                            OLS Regression Results                            \n",
      "==============================================================================\n",
      "Dep. Variable:                      y   R-squared:                       0.877\n",
      "Model:                            OLS   Adj. R-squared:                  0.876\n",
      "Method:                 Least Squares   F-statistic:                     867.1\n",
      "Date:                Fri, 21 Oct 2022   Prob (F-statistic):           2.79e-57\n",
      "Time:                        19:45:05   Log-Likelihood:                 730.35\n",
      "No. Observations:                 124   AIC:                            -1457.\n",
      "Df Residuals:                     122   BIC:                            -1451.\n",
      "Df Model:                           1                                         \n",
      "Covariance Type:            nonrobust                                         \n",
      "==============================================================================\n",
      "                 coef    std err          t      P>|t|      [0.025      0.975]\n",
      "------------------------------------------------------------------------------\n",
      "Intercept     -0.0001   6.19e-05     -2.419      0.017      -0.000   -2.72e-05\n",
      "x              0.9917      0.034     29.446      0.000       0.925       1.058\n",
      "==============================================================================\n",
      "Omnibus:                       25.368   Durbin-Watson:                   1.936\n",
      "Prob(Omnibus):                  0.000   Jarque-Bera (JB):              180.380\n",
      "Skew:                          -0.224   Prob(JB):                     6.78e-40\n",
      "Kurtosis:                       8.892   Cond. No.                         556.\n",
      "==============================================================================\n",
      "\n",
      "Notes:\n",
      "[1] Standard Errors assume that the covariance matrix of the errors is correctly specified.\n"
     ]
    }
   ],
   "source": [
    "print(result.summary())"
   ]
  },
  {
   "cell_type": "code",
   "execution_count": 27,
   "metadata": {},
   "outputs": [],
   "source": [
    "futurodi['y'] = (2/3)*(futurodi['y_t+1(2-1)'] - futurodi['y_t(1)']) + (1/3)*(futurodi['y_t+2(1)']-futurodi['y_t+1(2-1)'])\n",
    "futurodi['x'] = futurodi['s_t(3)']\n",
    "result = sm.ols(formula=\"y ~ x\", data=futurodi).fit()"
   ]
  },
  {
   "cell_type": "markdown",
   "metadata": {},
   "source": [
    "Para $n=3$, a regressão é\n",
    "\n",
    "$$\n",
    "\\sum_{i=1}^{3} \\left(1 - \\frac{i}{3}\\right)\\Delta y_{t+i}^{(1)} = \\alpha + \\beta[y_t^{(3)} - y_t^{(1)}] + v_t^{(3)}\n",
    "$$\n",
    "\n",
    "$$\n",
    "\\frac{2}{3}\\left(y_{t+1}^{(1)} - y_{t}^{(1)}\\right) + \\frac{1}{3}\\left(y_{t+2}^{(1)} - y_{t+1}^{(1)}\\right) = \\alpha + \\beta[y_t^{(3)} - y_t^{(1)}] + v_t^{(3)}\n",
    "$$"
   ]
  },
  {
   "cell_type": "code",
   "execution_count": 28,
   "metadata": {},
   "outputs": [
    {
     "name": "stdout",
     "output_type": "stream",
     "text": [
      "                            OLS Regression Results                            \n",
      "==============================================================================\n",
      "Dep. Variable:                      y   R-squared:                       0.871\n",
      "Model:                            OLS   Adj. R-squared:                  0.870\n",
      "Method:                 Least Squares   F-statistic:                     818.9\n",
      "Date:                Fri, 21 Oct 2022   Prob (F-statistic):           1.06e-55\n",
      "Time:                        19:45:05   Log-Likelihood:                 640.73\n",
      "No. Observations:                 123   AIC:                            -1277.\n",
      "Df Residuals:                     121   BIC:                            -1272.\n",
      "Df Model:                           1                                         \n",
      "Covariance Type:            nonrobust                                         \n",
      "==============================================================================\n",
      "                 coef    std err          t      P>|t|      [0.025      0.975]\n",
      "------------------------------------------------------------------------------\n",
      "Intercept     -0.0004      0.000     -3.474      0.001      -0.001      -0.000\n",
      "x              1.0161      0.036     28.617      0.000       0.946       1.086\n",
      "==============================================================================\n",
      "Omnibus:                       37.124   Durbin-Watson:                   1.329\n",
      "Prob(Omnibus):                  0.000   Jarque-Bera (JB):              115.469\n",
      "Skew:                          -1.061   Prob(JB):                     8.44e-26\n",
      "Kurtosis:                       7.246   Cond. No.                         295.\n",
      "==============================================================================\n",
      "\n",
      "Notes:\n",
      "[1] Standard Errors assume that the covariance matrix of the errors is correctly specified.\n"
     ]
    }
   ],
   "source": [
    "print(result.summary())"
   ]
  },
  {
   "cell_type": "code",
   "execution_count": 29,
   "metadata": {},
   "outputs": [],
   "source": [
    "futurodi['y'] = (3/4)*(futurodi['y_t+1(2-1)'] - futurodi['y_t(1)']) + (2/4)*(futurodi['y_t+2(1)']-futurodi['y_t+1(2-1)']) + (1/4)*(futurodi['y_t+3(1)']-futurodi['y_t+2(1)'])\n",
    "futurodi['x'] = futurodi['s_t(4)']\n",
    "result = sm.ols(formula=\"y ~ x\", data=futurodi).fit()"
   ]
  },
  {
   "cell_type": "markdown",
   "metadata": {},
   "source": [
    "Para $n=4$, a regressão é\n",
    "\n",
    "$$\n",
    "\\sum_{i=1}^{4} \\left(1 - \\frac{i}{4}\\right)\\Delta y_{t+i}^{(1)} = \\alpha + \\beta[y_t^{(4)} - y_t^{(1)}] + v_t^{(4)}\n",
    "$$\n",
    "\n",
    "$$\n",
    "\\frac{3}{4}\\left(y_{t+1}^{(1)} - y_{t}^{(1)}\\right) + \\frac{2}{4}\\left(y_{t+2}^{(1)} - y_{t+1}^{(1)}\\right) + \\frac{1}{4}\\left(y_{t+3}^{(1)} - y_{t+2}^{(1)}\\right) = \\alpha + \\beta[y_t^{(4)} - y_t^{(1)}] + v_t^{(4)}\n",
    "$$"
   ]
  },
  {
   "cell_type": "code",
   "execution_count": 30,
   "metadata": {},
   "outputs": [
    {
     "name": "stdout",
     "output_type": "stream",
     "text": [
      "                            OLS Regression Results                            \n",
      "==============================================================================\n",
      "Dep. Variable:                      y   R-squared:                       0.864\n",
      "Model:                            OLS   Adj. R-squared:                  0.863\n",
      "Method:                 Least Squares   F-statistic:                     761.9\n",
      "Date:                Fri, 21 Oct 2022   Prob (F-statistic):           8.31e-54\n",
      "Time:                        19:45:06   Log-Likelihood:                 584.63\n",
      "No. Observations:                 122   AIC:                            -1165.\n",
      "Df Residuals:                     120   BIC:                            -1160.\n",
      "Df Model:                           1                                         \n",
      "Covariance Type:            nonrobust                                         \n",
      "==============================================================================\n",
      "                 coef    std err          t      P>|t|      [0.025      0.975]\n",
      "------------------------------------------------------------------------------\n",
      "Intercept     -0.0007      0.000     -3.446      0.001      -0.001      -0.000\n",
      "x              1.0278      0.037     27.602      0.000       0.954       1.102\n",
      "==============================================================================\n",
      "Omnibus:                       21.232   Durbin-Watson:                   1.059\n",
      "Prob(Omnibus):                  0.000   Jarque-Bera (JB):               29.766\n",
      "Skew:                          -0.891   Prob(JB):                     3.44e-07\n",
      "Kurtosis:                       4.637   Cond. No.                         203.\n",
      "==============================================================================\n",
      "\n",
      "Notes:\n",
      "[1] Standard Errors assume that the covariance matrix of the errors is correctly specified.\n"
     ]
    }
   ],
   "source": [
    "print(result.summary())"
   ]
  },
  {
   "cell_type": "code",
   "execution_count": 31,
   "metadata": {},
   "outputs": [],
   "source": [
    "futurodi['y'] = (5/6)*(futurodi['y_t+1(2-1)'] - futurodi['y_t(1)']) + (4/6)*(futurodi['y_t+2(1)']-futurodi['y_t+1(2-1)']) + (3/6)*(futurodi['y_t+3(1)']-futurodi['y_t+2(1)']) + (2/6)*(futurodi['y_t+4(1)']-futurodi['y_t+3(1)']) + (1/6)*(futurodi['y_t+5(1)']-futurodi['y_t+4(1)'])\n",
    "futurodi['x'] = futurodi['s_t(6)']\n",
    "result = sm.ols(formula=\"y ~ x\", data=futurodi).fit()"
   ]
  },
  {
   "cell_type": "markdown",
   "metadata": {},
   "source": [
    "Para $n=6$, a regressão é\n",
    "\n",
    "$$\n",
    "\\sum_{i=1}^{6} \\left(1 - \\frac{i}{6}\\right)\\Delta y_{t+i}^{(1)} = \\alpha + \\beta[y_t^{(6)} - y_t^{(1)}] + v_t^{(6)}\n",
    "$$\n",
    "\n",
    "$$\n",
    "\\frac{5}{6}\\left(y_{t+1}^{(1)} - y_{t}^{(1)}\\right) + \\frac{4}{6}\\left(y_{t+2}^{(1)} - y_{t+1}^{(1)}\\right) + \\frac{3}{6}\\left(y_{t+3}^{(1)} - y_{t+2}^{(1)}\\right) + \\frac{2}{6}\\left(y_{t+4}^{(1)} - y_{t+3}^{(1)}\\right) + \\frac{1}{6}\\left(y_{t+5}^{(1)} - y_{t+4}^{(1)}\\right) = \\alpha + \\beta[y_t^{(6)} - y_t^{(1)}] + v_t^{(6)}\n",
    "$$"
   ]
  },
  {
   "cell_type": "code",
   "execution_count": 32,
   "metadata": {},
   "outputs": [
    {
     "name": "stdout",
     "output_type": "stream",
     "text": [
      "                            OLS Regression Results                            \n",
      "==============================================================================\n",
      "Dep. Variable:                      y   R-squared:                       0.838\n",
      "Model:                            OLS   Adj. R-squared:                  0.837\n",
      "Method:                 Least Squares   F-statistic:                     611.5\n",
      "Date:                Fri, 21 Oct 2022   Prob (F-statistic):           1.67e-48\n",
      "Time:                        19:45:06   Log-Likelihood:                 505.48\n",
      "No. Observations:                 120   AIC:                            -1007.\n",
      "Df Residuals:                     118   BIC:                            -1001.\n",
      "Df Model:                           1                                         \n",
      "Covariance Type:            nonrobust                                         \n",
      "==============================================================================\n",
      "                 coef    std err          t      P>|t|      [0.025      0.975]\n",
      "------------------------------------------------------------------------------\n",
      "Intercept     -0.0012      0.000     -3.482      0.001      -0.002      -0.001\n",
      "x              1.1183      0.045     24.729      0.000       1.029       1.208\n",
      "==============================================================================\n",
      "Omnibus:                       20.275   Durbin-Watson:                   0.809\n",
      "Prob(Omnibus):                  0.000   Jarque-Bera (JB):               25.390\n",
      "Skew:                          -0.948   Prob(JB):                     3.07e-06\n",
      "Kurtosis:                       4.217   Cond. No.                         137.\n",
      "==============================================================================\n",
      "\n",
      "Notes:\n",
      "[1] Standard Errors assume that the covariance matrix of the errors is correctly specified.\n"
     ]
    }
   ],
   "source": [
    "print(result.summary())"
   ]
  },
  {
   "cell_type": "code",
   "execution_count": 33,
   "metadata": {},
   "outputs": [],
   "source": [
    "futurodi['y'] = (8/9)*(futurodi['y_t+1(2-1)'] - futurodi['y_t(1)']) + (7/9)*(futurodi['y_t+2(1)']-futurodi['y_t+1(2-1)']) + (6/9)*(futurodi['y_t+3(1)']-futurodi['y_t+2(1)']) + (5/9)*(futurodi['y_t+4(1)']-futurodi['y_t+3(1)']) + (4/9)*(futurodi['y_t+5(1)']-futurodi['y_t+4(1)']) + (3/9)*(futurodi['y_t+6(1)']-futurodi['y_t+5(1)']) + (2/9)*(futurodi['y_t+7(1)']-futurodi['y_t+6(1)']) + (1/9)*(futurodi['y_t+8(1)']-futurodi['y_t+7(1)'])\n",
    "futurodi['x'] = futurodi['s_t(9)']\n",
    "result = sm.ols(formula=\"y ~ x\", data=futurodi).fit()"
   ]
  },
  {
   "cell_type": "markdown",
   "metadata": {},
   "source": [
    "Para $n=9$, a regressão é\n",
    "\n",
    "$$\n",
    "\\sum_{i=1}^{9} \\left(1 - \\frac{i}{9}\\right)\\Delta y_{t+i}^{(1)} = \\alpha + \\beta[y_t^{(9)} - y_t^{(1)}] + v_t^{(9)}\n",
    "$$"
   ]
  },
  {
   "cell_type": "code",
   "execution_count": 34,
   "metadata": {},
   "outputs": [
    {
     "name": "stdout",
     "output_type": "stream",
     "text": [
      "                            OLS Regression Results                            \n",
      "==============================================================================\n",
      "Dep. Variable:                      y   R-squared:                       0.789\n",
      "Model:                            OLS   Adj. R-squared:                  0.787\n",
      "Method:                 Least Squares   F-statistic:                     430.7\n",
      "Date:                Fri, 21 Oct 2022   Prob (F-statistic):           1.09e-40\n",
      "Time:                        19:45:07   Log-Likelihood:                 425.70\n",
      "No. Observations:                 117   AIC:                            -847.4\n",
      "Df Residuals:                     115   BIC:                            -841.9\n",
      "Df Model:                           1                                         \n",
      "Covariance Type:            nonrobust                                         \n",
      "==============================================================================\n",
      "                 coef    std err          t      P>|t|      [0.025      0.975]\n",
      "------------------------------------------------------------------------------\n",
      "Intercept     -0.0025      0.001     -3.929      0.000      -0.004      -0.001\n",
      "x              1.2514      0.060     20.752      0.000       1.132       1.371\n",
      "==============================================================================\n",
      "Omnibus:                        5.296   Durbin-Watson:                   0.635\n",
      "Prob(Omnibus):                  0.071   Jarque-Bera (JB):                5.210\n",
      "Skew:                          -0.517   Prob(JB):                       0.0739\n",
      "Kurtosis:                       2.961   Cond. No.                         102.\n",
      "==============================================================================\n",
      "\n",
      "Notes:\n",
      "[1] Standard Errors assume that the covariance matrix of the errors is correctly specified.\n"
     ]
    }
   ],
   "source": [
    "print(result.summary())"
   ]
  },
  {
   "cell_type": "code",
   "execution_count": 35,
   "metadata": {},
   "outputs": [],
   "source": [
    "futurodi['y'] = (11/12)*(futurodi['y_t+1(2-1)'] - futurodi['y_t(1)']) + (10/12)*(futurodi['y_t+2(1)']-futurodi['y_t+1(2-1)']) + (9/12)*(futurodi['y_t+3(1)']-futurodi['y_t+2(1)']) + (8/12)*(futurodi['y_t+4(1)']-futurodi['y_t+3(1)']) + (7/12)*(futurodi['y_t+5(1)']-futurodi['y_t+4(1)']) + (6/12)*(futurodi['y_t+6(1)']-futurodi['y_t+5(1)']) + (5/12)*(futurodi['y_t+7(1)']-futurodi['y_t+6(1)']) + (4/12)*(futurodi['y_t+8(1)']-futurodi['y_t+7(1)']) + (3/12)*(futurodi['y_t+9(1)']-futurodi['y_t+8(1)']) + (2/12)*(futurodi['y_t+10(1)']-futurodi['y_t+9(1)']) + (1/12)*(futurodi['y_t+11(1)']-futurodi['y_t+10(1)'])\n",
    "futurodi['x'] = futurodi['s_t(12)']\n",
    "result = sm.ols(formula=\"y ~ x\", data=futurodi).fit()"
   ]
  },
  {
   "cell_type": "markdown",
   "metadata": {},
   "source": [
    "Para $n=12$, a regressão é\n",
    "\n",
    "$$\n",
    "\\sum_{i=1}^{12} \\left(1 - \\frac{i}{12}\\right)\\Delta y_{t+i}^{(1)} = \\alpha + \\beta[y_t^{(12)} - y_t^{(1)}] + v_t^{(12)}\n",
    "$$"
   ]
  },
  {
   "cell_type": "code",
   "execution_count": 36,
   "metadata": {},
   "outputs": [
    {
     "name": "stdout",
     "output_type": "stream",
     "text": [
      "                            OLS Regression Results                            \n",
      "==============================================================================\n",
      "Dep. Variable:                      y   R-squared:                       0.769\n",
      "Model:                            OLS   Adj. R-squared:                  0.767\n",
      "Method:                 Least Squares   F-statistic:                     372.6\n",
      "Date:                Fri, 21 Oct 2022   Prob (F-statistic):           2.03e-37\n",
      "Time:                        19:45:07   Log-Likelihood:                 378.34\n",
      "No. Observations:                 114   AIC:                            -752.7\n",
      "Df Residuals:                     112   BIC:                            -747.2\n",
      "Df Model:                           1                                         \n",
      "Covariance Type:            nonrobust                                         \n",
      "==============================================================================\n",
      "                 coef    std err          t      P>|t|      [0.025      0.975]\n",
      "------------------------------------------------------------------------------\n",
      "Intercept     -0.0034      0.001     -3.897      0.000      -0.005      -0.002\n",
      "x              1.4273      0.074     19.302      0.000       1.281       1.574\n",
      "==============================================================================\n",
      "Omnibus:                        4.675   Durbin-Watson:                   0.499\n",
      "Prob(Omnibus):                  0.097   Jarque-Bera (JB):                4.589\n",
      "Skew:                          -0.490   Prob(JB):                        0.101\n",
      "Kurtosis:                       2.924   Cond. No.                         89.3\n",
      "==============================================================================\n",
      "\n",
      "Notes:\n",
      "[1] Standard Errors assume that the covariance matrix of the errors is correctly specified.\n"
     ]
    }
   ],
   "source": [
    "print(result.summary())"
   ]
  }
 ],
 "metadata": {
  "kernelspec": {
   "display_name": "Python 3.10.2 64-bit",
   "language": "python",
   "name": "python3"
  },
  "language_info": {
   "codemirror_mode": {
    "name": "ipython",
    "version": 3
   },
   "file_extension": ".py",
   "mimetype": "text/x-python",
   "name": "python",
   "nbconvert_exporter": "python",
   "pygments_lexer": "ipython3",
   "version": "3.10.2"
  },
  "orig_nbformat": 4,
  "vscode": {
   "interpreter": {
    "hash": "c63d8c7d738c2960218a10995aedf0a7f67a49a231e71037adf0440953cdb45b"
   }
  }
 },
 "nbformat": 4,
 "nbformat_minor": 2
}
